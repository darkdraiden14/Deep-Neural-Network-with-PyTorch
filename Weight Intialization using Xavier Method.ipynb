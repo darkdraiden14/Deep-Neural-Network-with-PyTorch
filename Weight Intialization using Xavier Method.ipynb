{
  "nbformat": 4,
  "nbformat_minor": 0,
  "metadata": {
    "kernelspec": {
      "display_name": "Python 3",
      "language": "python",
      "name": "python3"
    },
    "language_info": {
      "codemirror_mode": {
        "name": "ipython",
        "version": 3
      },
      "file_extension": ".py",
      "mimetype": "text/x-python",
      "name": "python",
      "nbconvert_exporter": "python",
      "pygments_lexer": "ipython3",
      "version": "3.6.8"
    },
    "colab": {
      "name": "8.3.2Xaviermist1layer_v2.ipynb",
      "provenance": [],
      "include_colab_link": true
    },
    "widgets": {
      "application/vnd.jupyter.widget-state+json": {
        "52709fdbe2954960b3e689999fdded5a": {
          "model_module": "@jupyter-widgets/controls",
          "model_name": "HBoxModel",
          "state": {
            "_view_name": "HBoxView",
            "_dom_classes": [],
            "_model_name": "HBoxModel",
            "_view_module": "@jupyter-widgets/controls",
            "_model_module_version": "1.5.0",
            "_view_count": null,
            "_view_module_version": "1.5.0",
            "box_style": "",
            "layout": "IPY_MODEL_f6e9353acc1a41da982a0fade794eac6",
            "_model_module": "@jupyter-widgets/controls",
            "children": [
              "IPY_MODEL_d3760e4cc5f043a3a14815062ad3bf81",
              "IPY_MODEL_957ae392cd554e7482c8bb2ad610e658"
            ]
          }
        },
        "f6e9353acc1a41da982a0fade794eac6": {
          "model_module": "@jupyter-widgets/base",
          "model_name": "LayoutModel",
          "state": {
            "_view_name": "LayoutView",
            "grid_template_rows": null,
            "right": null,
            "justify_content": null,
            "_view_module": "@jupyter-widgets/base",
            "overflow": null,
            "_model_module_version": "1.2.0",
            "_view_count": null,
            "flex_flow": null,
            "width": null,
            "min_width": null,
            "border": null,
            "align_items": null,
            "bottom": null,
            "_model_module": "@jupyter-widgets/base",
            "top": null,
            "grid_column": null,
            "overflow_y": null,
            "overflow_x": null,
            "grid_auto_flow": null,
            "grid_area": null,
            "grid_template_columns": null,
            "flex": null,
            "_model_name": "LayoutModel",
            "justify_items": null,
            "grid_row": null,
            "max_height": null,
            "align_content": null,
            "visibility": null,
            "align_self": null,
            "height": null,
            "min_height": null,
            "padding": null,
            "grid_auto_rows": null,
            "grid_gap": null,
            "max_width": null,
            "order": null,
            "_view_module_version": "1.2.0",
            "grid_template_areas": null,
            "object_position": null,
            "object_fit": null,
            "grid_auto_columns": null,
            "margin": null,
            "display": null,
            "left": null
          }
        },
        "d3760e4cc5f043a3a14815062ad3bf81": {
          "model_module": "@jupyter-widgets/controls",
          "model_name": "FloatProgressModel",
          "state": {
            "_view_name": "ProgressView",
            "style": "IPY_MODEL_6cd2be83b2404a33af944d3b1da52cfb",
            "_dom_classes": [],
            "description": "",
            "_model_name": "FloatProgressModel",
            "bar_style": "info",
            "max": 1,
            "_view_module": "@jupyter-widgets/controls",
            "_model_module_version": "1.5.0",
            "value": 1,
            "_view_count": null,
            "_view_module_version": "1.5.0",
            "orientation": "horizontal",
            "min": 0,
            "description_tooltip": null,
            "_model_module": "@jupyter-widgets/controls",
            "layout": "IPY_MODEL_f665ef0e0d12435ba1319c033ad49d21"
          }
        },
        "957ae392cd554e7482c8bb2ad610e658": {
          "model_module": "@jupyter-widgets/controls",
          "model_name": "HTMLModel",
          "state": {
            "_view_name": "HTMLView",
            "style": "IPY_MODEL_b3b7f305dc6e46a7869808e3a6fcdb8b",
            "_dom_classes": [],
            "description": "",
            "_model_name": "HTMLModel",
            "placeholder": "​",
            "_view_module": "@jupyter-widgets/controls",
            "_model_module_version": "1.5.0",
            "value": " 9920512/? [00:19&lt;00:00, 1343504.18it/s]",
            "_view_count": null,
            "_view_module_version": "1.5.0",
            "description_tooltip": null,
            "_model_module": "@jupyter-widgets/controls",
            "layout": "IPY_MODEL_e6d76f182083481c9ae821c410fd05bd"
          }
        },
        "6cd2be83b2404a33af944d3b1da52cfb": {
          "model_module": "@jupyter-widgets/controls",
          "model_name": "ProgressStyleModel",
          "state": {
            "_view_name": "StyleView",
            "_model_name": "ProgressStyleModel",
            "description_width": "initial",
            "_view_module": "@jupyter-widgets/base",
            "_model_module_version": "1.5.0",
            "_view_count": null,
            "_view_module_version": "1.2.0",
            "bar_color": null,
            "_model_module": "@jupyter-widgets/controls"
          }
        },
        "f665ef0e0d12435ba1319c033ad49d21": {
          "model_module": "@jupyter-widgets/base",
          "model_name": "LayoutModel",
          "state": {
            "_view_name": "LayoutView",
            "grid_template_rows": null,
            "right": null,
            "justify_content": null,
            "_view_module": "@jupyter-widgets/base",
            "overflow": null,
            "_model_module_version": "1.2.0",
            "_view_count": null,
            "flex_flow": null,
            "width": null,
            "min_width": null,
            "border": null,
            "align_items": null,
            "bottom": null,
            "_model_module": "@jupyter-widgets/base",
            "top": null,
            "grid_column": null,
            "overflow_y": null,
            "overflow_x": null,
            "grid_auto_flow": null,
            "grid_area": null,
            "grid_template_columns": null,
            "flex": null,
            "_model_name": "LayoutModel",
            "justify_items": null,
            "grid_row": null,
            "max_height": null,
            "align_content": null,
            "visibility": null,
            "align_self": null,
            "height": null,
            "min_height": null,
            "padding": null,
            "grid_auto_rows": null,
            "grid_gap": null,
            "max_width": null,
            "order": null,
            "_view_module_version": "1.2.0",
            "grid_template_areas": null,
            "object_position": null,
            "object_fit": null,
            "grid_auto_columns": null,
            "margin": null,
            "display": null,
            "left": null
          }
        },
        "b3b7f305dc6e46a7869808e3a6fcdb8b": {
          "model_module": "@jupyter-widgets/controls",
          "model_name": "DescriptionStyleModel",
          "state": {
            "_view_name": "StyleView",
            "_model_name": "DescriptionStyleModel",
            "description_width": "",
            "_view_module": "@jupyter-widgets/base",
            "_model_module_version": "1.5.0",
            "_view_count": null,
            "_view_module_version": "1.2.0",
            "_model_module": "@jupyter-widgets/controls"
          }
        },
        "e6d76f182083481c9ae821c410fd05bd": {
          "model_module": "@jupyter-widgets/base",
          "model_name": "LayoutModel",
          "state": {
            "_view_name": "LayoutView",
            "grid_template_rows": null,
            "right": null,
            "justify_content": null,
            "_view_module": "@jupyter-widgets/base",
            "overflow": null,
            "_model_module_version": "1.2.0",
            "_view_count": null,
            "flex_flow": null,
            "width": null,
            "min_width": null,
            "border": null,
            "align_items": null,
            "bottom": null,
            "_model_module": "@jupyter-widgets/base",
            "top": null,
            "grid_column": null,
            "overflow_y": null,
            "overflow_x": null,
            "grid_auto_flow": null,
            "grid_area": null,
            "grid_template_columns": null,
            "flex": null,
            "_model_name": "LayoutModel",
            "justify_items": null,
            "grid_row": null,
            "max_height": null,
            "align_content": null,
            "visibility": null,
            "align_self": null,
            "height": null,
            "min_height": null,
            "padding": null,
            "grid_auto_rows": null,
            "grid_gap": null,
            "max_width": null,
            "order": null,
            "_view_module_version": "1.2.0",
            "grid_template_areas": null,
            "object_position": null,
            "object_fit": null,
            "grid_auto_columns": null,
            "margin": null,
            "display": null,
            "left": null
          }
        },
        "c980bd69e7a04ca295e9f06ae2b6b738": {
          "model_module": "@jupyter-widgets/controls",
          "model_name": "HBoxModel",
          "state": {
            "_view_name": "HBoxView",
            "_dom_classes": [],
            "_model_name": "HBoxModel",
            "_view_module": "@jupyter-widgets/controls",
            "_model_module_version": "1.5.0",
            "_view_count": null,
            "_view_module_version": "1.5.0",
            "box_style": "",
            "layout": "IPY_MODEL_0b7ee3a7657049ea847b8982bb27118f",
            "_model_module": "@jupyter-widgets/controls",
            "children": [
              "IPY_MODEL_8ba738323d5d42bc9c8cef173067e0b8",
              "IPY_MODEL_54f852a143c643ba9152472c1da768b0"
            ]
          }
        },
        "0b7ee3a7657049ea847b8982bb27118f": {
          "model_module": "@jupyter-widgets/base",
          "model_name": "LayoutModel",
          "state": {
            "_view_name": "LayoutView",
            "grid_template_rows": null,
            "right": null,
            "justify_content": null,
            "_view_module": "@jupyter-widgets/base",
            "overflow": null,
            "_model_module_version": "1.2.0",
            "_view_count": null,
            "flex_flow": null,
            "width": null,
            "min_width": null,
            "border": null,
            "align_items": null,
            "bottom": null,
            "_model_module": "@jupyter-widgets/base",
            "top": null,
            "grid_column": null,
            "overflow_y": null,
            "overflow_x": null,
            "grid_auto_flow": null,
            "grid_area": null,
            "grid_template_columns": null,
            "flex": null,
            "_model_name": "LayoutModel",
            "justify_items": null,
            "grid_row": null,
            "max_height": null,
            "align_content": null,
            "visibility": null,
            "align_self": null,
            "height": null,
            "min_height": null,
            "padding": null,
            "grid_auto_rows": null,
            "grid_gap": null,
            "max_width": null,
            "order": null,
            "_view_module_version": "1.2.0",
            "grid_template_areas": null,
            "object_position": null,
            "object_fit": null,
            "grid_auto_columns": null,
            "margin": null,
            "display": null,
            "left": null
          }
        },
        "8ba738323d5d42bc9c8cef173067e0b8": {
          "model_module": "@jupyter-widgets/controls",
          "model_name": "FloatProgressModel",
          "state": {
            "_view_name": "ProgressView",
            "style": "IPY_MODEL_267eb210381d43068d73ab08f6de24e2",
            "_dom_classes": [],
            "description": "",
            "_model_name": "FloatProgressModel",
            "bar_style": "success",
            "max": 1,
            "_view_module": "@jupyter-widgets/controls",
            "_model_module_version": "1.5.0",
            "value": 1,
            "_view_count": null,
            "_view_module_version": "1.5.0",
            "orientation": "horizontal",
            "min": 0,
            "description_tooltip": null,
            "_model_module": "@jupyter-widgets/controls",
            "layout": "IPY_MODEL_15bd18fb93754406be9e1c9c67c0af3d"
          }
        },
        "54f852a143c643ba9152472c1da768b0": {
          "model_module": "@jupyter-widgets/controls",
          "model_name": "HTMLModel",
          "state": {
            "_view_name": "HTMLView",
            "style": "IPY_MODEL_fd2e391ed72143b1aec266af1b1d6b7b",
            "_dom_classes": [],
            "description": "",
            "_model_name": "HTMLModel",
            "placeholder": "​",
            "_view_module": "@jupyter-widgets/controls",
            "_model_module_version": "1.5.0",
            "value": " 32768/? [00:04&lt;00:00, 7204.24it/s]",
            "_view_count": null,
            "_view_module_version": "1.5.0",
            "description_tooltip": null,
            "_model_module": "@jupyter-widgets/controls",
            "layout": "IPY_MODEL_91ebc31b42604cb499258ddab77c5326"
          }
        },
        "267eb210381d43068d73ab08f6de24e2": {
          "model_module": "@jupyter-widgets/controls",
          "model_name": "ProgressStyleModel",
          "state": {
            "_view_name": "StyleView",
            "_model_name": "ProgressStyleModel",
            "description_width": "initial",
            "_view_module": "@jupyter-widgets/base",
            "_model_module_version": "1.5.0",
            "_view_count": null,
            "_view_module_version": "1.2.0",
            "bar_color": null,
            "_model_module": "@jupyter-widgets/controls"
          }
        },
        "15bd18fb93754406be9e1c9c67c0af3d": {
          "model_module": "@jupyter-widgets/base",
          "model_name": "LayoutModel",
          "state": {
            "_view_name": "LayoutView",
            "grid_template_rows": null,
            "right": null,
            "justify_content": null,
            "_view_module": "@jupyter-widgets/base",
            "overflow": null,
            "_model_module_version": "1.2.0",
            "_view_count": null,
            "flex_flow": null,
            "width": null,
            "min_width": null,
            "border": null,
            "align_items": null,
            "bottom": null,
            "_model_module": "@jupyter-widgets/base",
            "top": null,
            "grid_column": null,
            "overflow_y": null,
            "overflow_x": null,
            "grid_auto_flow": null,
            "grid_area": null,
            "grid_template_columns": null,
            "flex": null,
            "_model_name": "LayoutModel",
            "justify_items": null,
            "grid_row": null,
            "max_height": null,
            "align_content": null,
            "visibility": null,
            "align_self": null,
            "height": null,
            "min_height": null,
            "padding": null,
            "grid_auto_rows": null,
            "grid_gap": null,
            "max_width": null,
            "order": null,
            "_view_module_version": "1.2.0",
            "grid_template_areas": null,
            "object_position": null,
            "object_fit": null,
            "grid_auto_columns": null,
            "margin": null,
            "display": null,
            "left": null
          }
        },
        "fd2e391ed72143b1aec266af1b1d6b7b": {
          "model_module": "@jupyter-widgets/controls",
          "model_name": "DescriptionStyleModel",
          "state": {
            "_view_name": "StyleView",
            "_model_name": "DescriptionStyleModel",
            "description_width": "",
            "_view_module": "@jupyter-widgets/base",
            "_model_module_version": "1.5.0",
            "_view_count": null,
            "_view_module_version": "1.2.0",
            "_model_module": "@jupyter-widgets/controls"
          }
        },
        "91ebc31b42604cb499258ddab77c5326": {
          "model_module": "@jupyter-widgets/base",
          "model_name": "LayoutModel",
          "state": {
            "_view_name": "LayoutView",
            "grid_template_rows": null,
            "right": null,
            "justify_content": null,
            "_view_module": "@jupyter-widgets/base",
            "overflow": null,
            "_model_module_version": "1.2.0",
            "_view_count": null,
            "flex_flow": null,
            "width": null,
            "min_width": null,
            "border": null,
            "align_items": null,
            "bottom": null,
            "_model_module": "@jupyter-widgets/base",
            "top": null,
            "grid_column": null,
            "overflow_y": null,
            "overflow_x": null,
            "grid_auto_flow": null,
            "grid_area": null,
            "grid_template_columns": null,
            "flex": null,
            "_model_name": "LayoutModel",
            "justify_items": null,
            "grid_row": null,
            "max_height": null,
            "align_content": null,
            "visibility": null,
            "align_self": null,
            "height": null,
            "min_height": null,
            "padding": null,
            "grid_auto_rows": null,
            "grid_gap": null,
            "max_width": null,
            "order": null,
            "_view_module_version": "1.2.0",
            "grid_template_areas": null,
            "object_position": null,
            "object_fit": null,
            "grid_auto_columns": null,
            "margin": null,
            "display": null,
            "left": null
          }
        },
        "ca84293eccc24117a43365ce351679dd": {
          "model_module": "@jupyter-widgets/controls",
          "model_name": "HBoxModel",
          "state": {
            "_view_name": "HBoxView",
            "_dom_classes": [],
            "_model_name": "HBoxModel",
            "_view_module": "@jupyter-widgets/controls",
            "_model_module_version": "1.5.0",
            "_view_count": null,
            "_view_module_version": "1.5.0",
            "box_style": "",
            "layout": "IPY_MODEL_e0a5f96451ef4a5ab9531caf25ce4709",
            "_model_module": "@jupyter-widgets/controls",
            "children": [
              "IPY_MODEL_262a66f26cc64b6aad8753348e98a1dc",
              "IPY_MODEL_609a3a1bb6bd4188a1bace6638b54d3d"
            ]
          }
        },
        "e0a5f96451ef4a5ab9531caf25ce4709": {
          "model_module": "@jupyter-widgets/base",
          "model_name": "LayoutModel",
          "state": {
            "_view_name": "LayoutView",
            "grid_template_rows": null,
            "right": null,
            "justify_content": null,
            "_view_module": "@jupyter-widgets/base",
            "overflow": null,
            "_model_module_version": "1.2.0",
            "_view_count": null,
            "flex_flow": null,
            "width": null,
            "min_width": null,
            "border": null,
            "align_items": null,
            "bottom": null,
            "_model_module": "@jupyter-widgets/base",
            "top": null,
            "grid_column": null,
            "overflow_y": null,
            "overflow_x": null,
            "grid_auto_flow": null,
            "grid_area": null,
            "grid_template_columns": null,
            "flex": null,
            "_model_name": "LayoutModel",
            "justify_items": null,
            "grid_row": null,
            "max_height": null,
            "align_content": null,
            "visibility": null,
            "align_self": null,
            "height": null,
            "min_height": null,
            "padding": null,
            "grid_auto_rows": null,
            "grid_gap": null,
            "max_width": null,
            "order": null,
            "_view_module_version": "1.2.0",
            "grid_template_areas": null,
            "object_position": null,
            "object_fit": null,
            "grid_auto_columns": null,
            "margin": null,
            "display": null,
            "left": null
          }
        },
        "262a66f26cc64b6aad8753348e98a1dc": {
          "model_module": "@jupyter-widgets/controls",
          "model_name": "FloatProgressModel",
          "state": {
            "_view_name": "ProgressView",
            "style": "IPY_MODEL_27cf87c2951342e0aa84bc7269296eb2",
            "_dom_classes": [],
            "description": "",
            "_model_name": "FloatProgressModel",
            "bar_style": "success",
            "max": 1,
            "_view_module": "@jupyter-widgets/controls",
            "_model_module_version": "1.5.0",
            "value": 1,
            "_view_count": null,
            "_view_module_version": "1.5.0",
            "orientation": "horizontal",
            "min": 0,
            "description_tooltip": null,
            "_model_module": "@jupyter-widgets/controls",
            "layout": "IPY_MODEL_0e1d68a102204d18b1091a5aca29c816"
          }
        },
        "609a3a1bb6bd4188a1bace6638b54d3d": {
          "model_module": "@jupyter-widgets/controls",
          "model_name": "HTMLModel",
          "state": {
            "_view_name": "HTMLView",
            "style": "IPY_MODEL_a1195c1cd9e54d699ccc87c0061b1bbf",
            "_dom_classes": [],
            "description": "",
            "_model_name": "HTMLModel",
            "placeholder": "​",
            "_view_module": "@jupyter-widgets/controls",
            "_model_module_version": "1.5.0",
            "value": " 1654784/? [00:03&lt;00:00, 425090.94it/s]",
            "_view_count": null,
            "_view_module_version": "1.5.0",
            "description_tooltip": null,
            "_model_module": "@jupyter-widgets/controls",
            "layout": "IPY_MODEL_7232dc941c7e4db690ef1cde32162d9c"
          }
        },
        "27cf87c2951342e0aa84bc7269296eb2": {
          "model_module": "@jupyter-widgets/controls",
          "model_name": "ProgressStyleModel",
          "state": {
            "_view_name": "StyleView",
            "_model_name": "ProgressStyleModel",
            "description_width": "initial",
            "_view_module": "@jupyter-widgets/base",
            "_model_module_version": "1.5.0",
            "_view_count": null,
            "_view_module_version": "1.2.0",
            "bar_color": null,
            "_model_module": "@jupyter-widgets/controls"
          }
        },
        "0e1d68a102204d18b1091a5aca29c816": {
          "model_module": "@jupyter-widgets/base",
          "model_name": "LayoutModel",
          "state": {
            "_view_name": "LayoutView",
            "grid_template_rows": null,
            "right": null,
            "justify_content": null,
            "_view_module": "@jupyter-widgets/base",
            "overflow": null,
            "_model_module_version": "1.2.0",
            "_view_count": null,
            "flex_flow": null,
            "width": null,
            "min_width": null,
            "border": null,
            "align_items": null,
            "bottom": null,
            "_model_module": "@jupyter-widgets/base",
            "top": null,
            "grid_column": null,
            "overflow_y": null,
            "overflow_x": null,
            "grid_auto_flow": null,
            "grid_area": null,
            "grid_template_columns": null,
            "flex": null,
            "_model_name": "LayoutModel",
            "justify_items": null,
            "grid_row": null,
            "max_height": null,
            "align_content": null,
            "visibility": null,
            "align_self": null,
            "height": null,
            "min_height": null,
            "padding": null,
            "grid_auto_rows": null,
            "grid_gap": null,
            "max_width": null,
            "order": null,
            "_view_module_version": "1.2.0",
            "grid_template_areas": null,
            "object_position": null,
            "object_fit": null,
            "grid_auto_columns": null,
            "margin": null,
            "display": null,
            "left": null
          }
        },
        "a1195c1cd9e54d699ccc87c0061b1bbf": {
          "model_module": "@jupyter-widgets/controls",
          "model_name": "DescriptionStyleModel",
          "state": {
            "_view_name": "StyleView",
            "_model_name": "DescriptionStyleModel",
            "description_width": "",
            "_view_module": "@jupyter-widgets/base",
            "_model_module_version": "1.5.0",
            "_view_count": null,
            "_view_module_version": "1.2.0",
            "_model_module": "@jupyter-widgets/controls"
          }
        },
        "7232dc941c7e4db690ef1cde32162d9c": {
          "model_module": "@jupyter-widgets/base",
          "model_name": "LayoutModel",
          "state": {
            "_view_name": "LayoutView",
            "grid_template_rows": null,
            "right": null,
            "justify_content": null,
            "_view_module": "@jupyter-widgets/base",
            "overflow": null,
            "_model_module_version": "1.2.0",
            "_view_count": null,
            "flex_flow": null,
            "width": null,
            "min_width": null,
            "border": null,
            "align_items": null,
            "bottom": null,
            "_model_module": "@jupyter-widgets/base",
            "top": null,
            "grid_column": null,
            "overflow_y": null,
            "overflow_x": null,
            "grid_auto_flow": null,
            "grid_area": null,
            "grid_template_columns": null,
            "flex": null,
            "_model_name": "LayoutModel",
            "justify_items": null,
            "grid_row": null,
            "max_height": null,
            "align_content": null,
            "visibility": null,
            "align_self": null,
            "height": null,
            "min_height": null,
            "padding": null,
            "grid_auto_rows": null,
            "grid_gap": null,
            "max_width": null,
            "order": null,
            "_view_module_version": "1.2.0",
            "grid_template_areas": null,
            "object_position": null,
            "object_fit": null,
            "grid_auto_columns": null,
            "margin": null,
            "display": null,
            "left": null
          }
        },
        "aeb42a2e7ff54dcd9af8287827a859b9": {
          "model_module": "@jupyter-widgets/controls",
          "model_name": "HBoxModel",
          "state": {
            "_view_name": "HBoxView",
            "_dom_classes": [],
            "_model_name": "HBoxModel",
            "_view_module": "@jupyter-widgets/controls",
            "_model_module_version": "1.5.0",
            "_view_count": null,
            "_view_module_version": "1.5.0",
            "box_style": "",
            "layout": "IPY_MODEL_63eec1b70ab24d3ab511735ca8d7f590",
            "_model_module": "@jupyter-widgets/controls",
            "children": [
              "IPY_MODEL_6e82a327841946ec9c2d05235aa39fce",
              "IPY_MODEL_de9f87afccf24a06827bbdf4e1eb07c8"
            ]
          }
        },
        "63eec1b70ab24d3ab511735ca8d7f590": {
          "model_module": "@jupyter-widgets/base",
          "model_name": "LayoutModel",
          "state": {
            "_view_name": "LayoutView",
            "grid_template_rows": null,
            "right": null,
            "justify_content": null,
            "_view_module": "@jupyter-widgets/base",
            "overflow": null,
            "_model_module_version": "1.2.0",
            "_view_count": null,
            "flex_flow": null,
            "width": null,
            "min_width": null,
            "border": null,
            "align_items": null,
            "bottom": null,
            "_model_module": "@jupyter-widgets/base",
            "top": null,
            "grid_column": null,
            "overflow_y": null,
            "overflow_x": null,
            "grid_auto_flow": null,
            "grid_area": null,
            "grid_template_columns": null,
            "flex": null,
            "_model_name": "LayoutModel",
            "justify_items": null,
            "grid_row": null,
            "max_height": null,
            "align_content": null,
            "visibility": null,
            "align_self": null,
            "height": null,
            "min_height": null,
            "padding": null,
            "grid_auto_rows": null,
            "grid_gap": null,
            "max_width": null,
            "order": null,
            "_view_module_version": "1.2.0",
            "grid_template_areas": null,
            "object_position": null,
            "object_fit": null,
            "grid_auto_columns": null,
            "margin": null,
            "display": null,
            "left": null
          }
        },
        "6e82a327841946ec9c2d05235aa39fce": {
          "model_module": "@jupyter-widgets/controls",
          "model_name": "FloatProgressModel",
          "state": {
            "_view_name": "ProgressView",
            "style": "IPY_MODEL_38ebb5d2335c4852be9945c286292790",
            "_dom_classes": [],
            "description": "",
            "_model_name": "FloatProgressModel",
            "bar_style": "success",
            "max": 1,
            "_view_module": "@jupyter-widgets/controls",
            "_model_module_version": "1.5.0",
            "value": 1,
            "_view_count": null,
            "_view_module_version": "1.5.0",
            "orientation": "horizontal",
            "min": 0,
            "description_tooltip": null,
            "_model_module": "@jupyter-widgets/controls",
            "layout": "IPY_MODEL_2ddd9b1fb9c24291b8eacc75b4cc69bc"
          }
        },
        "de9f87afccf24a06827bbdf4e1eb07c8": {
          "model_module": "@jupyter-widgets/controls",
          "model_name": "HTMLModel",
          "state": {
            "_view_name": "HTMLView",
            "style": "IPY_MODEL_c4712c29af0241fa9107124eaf0cfdc5",
            "_dom_classes": [],
            "description": "",
            "_model_name": "HTMLModel",
            "placeholder": "​",
            "_view_module": "@jupyter-widgets/controls",
            "_model_module_version": "1.5.0",
            "value": " 8192/? [00:02&lt;00:00, 4092.31it/s]",
            "_view_count": null,
            "_view_module_version": "1.5.0",
            "description_tooltip": null,
            "_model_module": "@jupyter-widgets/controls",
            "layout": "IPY_MODEL_eeb6d93c69da4eb09aedf769e2a88822"
          }
        },
        "38ebb5d2335c4852be9945c286292790": {
          "model_module": "@jupyter-widgets/controls",
          "model_name": "ProgressStyleModel",
          "state": {
            "_view_name": "StyleView",
            "_model_name": "ProgressStyleModel",
            "description_width": "initial",
            "_view_module": "@jupyter-widgets/base",
            "_model_module_version": "1.5.0",
            "_view_count": null,
            "_view_module_version": "1.2.0",
            "bar_color": null,
            "_model_module": "@jupyter-widgets/controls"
          }
        },
        "2ddd9b1fb9c24291b8eacc75b4cc69bc": {
          "model_module": "@jupyter-widgets/base",
          "model_name": "LayoutModel",
          "state": {
            "_view_name": "LayoutView",
            "grid_template_rows": null,
            "right": null,
            "justify_content": null,
            "_view_module": "@jupyter-widgets/base",
            "overflow": null,
            "_model_module_version": "1.2.0",
            "_view_count": null,
            "flex_flow": null,
            "width": null,
            "min_width": null,
            "border": null,
            "align_items": null,
            "bottom": null,
            "_model_module": "@jupyter-widgets/base",
            "top": null,
            "grid_column": null,
            "overflow_y": null,
            "overflow_x": null,
            "grid_auto_flow": null,
            "grid_area": null,
            "grid_template_columns": null,
            "flex": null,
            "_model_name": "LayoutModel",
            "justify_items": null,
            "grid_row": null,
            "max_height": null,
            "align_content": null,
            "visibility": null,
            "align_self": null,
            "height": null,
            "min_height": null,
            "padding": null,
            "grid_auto_rows": null,
            "grid_gap": null,
            "max_width": null,
            "order": null,
            "_view_module_version": "1.2.0",
            "grid_template_areas": null,
            "object_position": null,
            "object_fit": null,
            "grid_auto_columns": null,
            "margin": null,
            "display": null,
            "left": null
          }
        },
        "c4712c29af0241fa9107124eaf0cfdc5": {
          "model_module": "@jupyter-widgets/controls",
          "model_name": "DescriptionStyleModel",
          "state": {
            "_view_name": "StyleView",
            "_model_name": "DescriptionStyleModel",
            "description_width": "",
            "_view_module": "@jupyter-widgets/base",
            "_model_module_version": "1.5.0",
            "_view_count": null,
            "_view_module_version": "1.2.0",
            "_model_module": "@jupyter-widgets/controls"
          }
        },
        "eeb6d93c69da4eb09aedf769e2a88822": {
          "model_module": "@jupyter-widgets/base",
          "model_name": "LayoutModel",
          "state": {
            "_view_name": "LayoutView",
            "grid_template_rows": null,
            "right": null,
            "justify_content": null,
            "_view_module": "@jupyter-widgets/base",
            "overflow": null,
            "_model_module_version": "1.2.0",
            "_view_count": null,
            "flex_flow": null,
            "width": null,
            "min_width": null,
            "border": null,
            "align_items": null,
            "bottom": null,
            "_model_module": "@jupyter-widgets/base",
            "top": null,
            "grid_column": null,
            "overflow_y": null,
            "overflow_x": null,
            "grid_auto_flow": null,
            "grid_area": null,
            "grid_template_columns": null,
            "flex": null,
            "_model_name": "LayoutModel",
            "justify_items": null,
            "grid_row": null,
            "max_height": null,
            "align_content": null,
            "visibility": null,
            "align_self": null,
            "height": null,
            "min_height": null,
            "padding": null,
            "grid_auto_rows": null,
            "grid_gap": null,
            "max_width": null,
            "order": null,
            "_view_module_version": "1.2.0",
            "grid_template_areas": null,
            "object_position": null,
            "object_fit": null,
            "grid_auto_columns": null,
            "margin": null,
            "display": null,
            "left": null
          }
        }
      }
    }
  },
  "cells": [
    {
      "cell_type": "markdown",
      "metadata": {
        "id": "view-in-github",
        "colab_type": "text"
      },
      "source": [
        "<a href=\"https://colab.research.google.com/github/darkdraiden14/Deep-Neural-Network-with-PyTorch/blob/master/Weight%20Intialization%20using%20Xavier%20Method.ipynb\" target=\"_parent\"><img src=\"https://colab.research.google.com/assets/colab-badge.svg\" alt=\"Open In Colab\"/></a>"
      ]
    },
    {
      "cell_type": "markdown",
      "metadata": {
        "id": "9sfbaxAKpLsM",
        "colab_type": "text"
      },
      "source": [
        "<h1>Test Uniform, Default and Xavier Uniform Initialization on MNIST dataset with tanh activation</h1>"
      ]
    },
    {
      "cell_type": "markdown",
      "metadata": {
        "id": "X5B6xtPipLsM",
        "colab_type": "text"
      },
      "source": [
        "<h2>Table of Contents</h2>\n",
        "In this lab, you will test PyTroch Default Initialization, Xavier Initialization and Uniform Initialization on the MNIST dataset. \n",
        "\n",
        "<ul>\n",
        "    <li><a href=\"#Model\">Neural Network Module and Training Function</a></li>\n",
        "    <li><a href=\"#Make\">Make Some Data</a></li>\n",
        "    <li><a href=\"#Cost\">Define Several Neural Network, Criterion function, Optimizer</a></li>\n",
        "    <li><a href=\"#Train\">Test Uniform, Default and Xavier Initialization</a></li>\n",
        "    <li><a href=\"#Result\">Analyze Results</a></li>\n",
        "</ul>\n",
        "\n",
        "<p>Estimated Time Needed: <strong>25 min</strong></p>\n",
        "\n",
        "<hr>"
      ]
    },
    {
      "cell_type": "markdown",
      "metadata": {
        "id": "nCEHqkqzpLsN",
        "colab_type": "text"
      },
      "source": [
        "<h2>Preparation</h2>"
      ]
    },
    {
      "cell_type": "markdown",
      "metadata": {
        "id": "YPhoOzvgpLsO",
        "colab_type": "text"
      },
      "source": [
        "We'll need the following libraries:  "
      ]
    },
    {
      "cell_type": "code",
      "metadata": {
        "id": "6mwvzCyRpLsP",
        "colab_type": "code",
        "colab": {
          "base_uri": "https://localhost:8080/",
          "height": 34
        },
        "outputId": "6bfb5133-b684-48ee-a5c5-af6f65ecc61b"
      },
      "source": [
        "# Import the libraries we need to use in this lab\n",
        "\n",
        "# Using the following line code to install the torchvision library\n",
        "# !conda install -y torchvision\n",
        "\n",
        "import torch \n",
        "import torch.nn as nn\n",
        "import torchvision.transforms as transforms\n",
        "import torchvision.datasets as dsets\n",
        "import matplotlib.pylab as plt\n",
        "import numpy as np\n",
        "\n",
        "torch.manual_seed(0)"
      ],
      "execution_count": 1,
      "outputs": [
        {
          "output_type": "execute_result",
          "data": {
            "text/plain": [
              "<torch._C.Generator at 0x7f03c41d9630>"
            ]
          },
          "metadata": {
            "tags": []
          },
          "execution_count": 1
        }
      ]
    },
    {
      "cell_type": "markdown",
      "metadata": {
        "id": "JMYrHZv6pLsU",
        "colab_type": "text"
      },
      "source": [
        "<!--Empty Space for separating topics-->"
      ]
    },
    {
      "cell_type": "markdown",
      "metadata": {
        "id": "0epuBL3jpLsV",
        "colab_type": "text"
      },
      "source": [
        "<h2 id=\"Model\">Neural Network Module and Training Function</h2> "
      ]
    },
    {
      "cell_type": "markdown",
      "metadata": {
        "id": "ogvH7vv8pLsV",
        "colab_type": "text"
      },
      "source": [
        "Define the neural network module or class with Xavier Initialization"
      ]
    },
    {
      "cell_type": "code",
      "metadata": {
        "id": "aJahwMTnpLsW",
        "colab_type": "code",
        "colab": {}
      },
      "source": [
        "# Define the neural network with Xavier initialization\n",
        "\n",
        "class Net_Xavier(nn.Module):\n",
        "    \n",
        "    # Constructor\n",
        "    def __init__(self, Layers):\n",
        "        super(Net_Xavier, self).__init__()\n",
        "        self.hidden = nn.ModuleList()\n",
        "\n",
        "        for input_size, output_size in zip(Layers, Layers[1:]):\n",
        "            linear = nn.Linear(input_size, output_size)\n",
        "            torch.nn.init.xavier_uniform_(linear.weight)\n",
        "            self.hidden.append(linear)\n",
        "    \n",
        "    # Prediction\n",
        "    def forward(self, x):\n",
        "        L = len(self.hidden)\n",
        "        for (l, linear_transform) in zip(range(L), self.hidden):\n",
        "            if l < L - 1:\n",
        "                x = torch.tanh(linear_transform(x))\n",
        "            else:\n",
        "                x = linear_transform(x)\n",
        "        return x"
      ],
      "execution_count": 2,
      "outputs": []
    },
    {
      "cell_type": "markdown",
      "metadata": {
        "id": "wfNnygc-pLsa",
        "colab_type": "text"
      },
      "source": [
        "Define the neural network module with Uniform Initialization:"
      ]
    },
    {
      "cell_type": "code",
      "metadata": {
        "id": "0VCN7DgApLsb",
        "colab_type": "code",
        "colab": {}
      },
      "source": [
        "# Define the neural network with Uniform initialization\n",
        "\n",
        "class Net_Uniform(nn.Module):\n",
        "    \n",
        "    # Constructor\n",
        "    def __init__(self, Layers):\n",
        "        super(Net_Uniform, self).__init__()\n",
        "        self.hidden = nn.ModuleList()\n",
        "\n",
        "        for input_size, output_size in zip(Layers, Layers[1:]):\n",
        "            linear = nn.Linear(input_size, output_size)\n",
        "            linear.weight.data.uniform_(0, 1)\n",
        "            self.hidden.append(linear)\n",
        "    \n",
        "    # Prediction\n",
        "    def forward(self, x):\n",
        "        L = len(self.hidden)\n",
        "        for (l, linear_transform) in zip(range(L), self.hidden):\n",
        "            if l < L - 1:\n",
        "                x = torch.tanh(linear_transform(x))\n",
        "            else:\n",
        "                x = linear_transform(x)\n",
        "        return x"
      ],
      "execution_count": 3,
      "outputs": []
    },
    {
      "cell_type": "markdown",
      "metadata": {
        "id": "pM-llJgFpLsf",
        "colab_type": "text"
      },
      "source": [
        "Define the neural network module with PyTroch Default Initialization"
      ]
    },
    {
      "cell_type": "code",
      "metadata": {
        "id": "OyRGoZSYpLsg",
        "colab_type": "code",
        "colab": {}
      },
      "source": [
        "# Define the neural network with Default initialization\n",
        "\n",
        "class Net(nn.Module):\n",
        "    \n",
        "    # Constructor\n",
        "    def __init__(self, Layers):\n",
        "        super(Net, self).__init__()\n",
        "        self.hidden = nn.ModuleList()\n",
        "\n",
        "        for input_size, output_size in zip(Layers, Layers[1:]):\n",
        "            linear = nn.Linear(input_size, output_size)\n",
        "            self.hidden.append(linear)\n",
        "    \n",
        "    # Prediction\n",
        "    def forward(self, x):\n",
        "        L = len(self.hidden)\n",
        "        for (l, linear_transform) in zip(range(L), self.hidden):\n",
        "            if l < L - 1:\n",
        "                x = torch.tanh(linear_transform(x))\n",
        "            else:\n",
        "                x = linear_transform(x)\n",
        "        return x"
      ],
      "execution_count": 4,
      "outputs": []
    },
    {
      "cell_type": "markdown",
      "metadata": {
        "id": "paXrBp3zpLsj",
        "colab_type": "text"
      },
      "source": [
        "Define a function to train the model, in this case the function returns a Python dictionary to store the training loss and accuracy on the validation data "
      ]
    },
    {
      "cell_type": "code",
      "metadata": {
        "id": "hlt-3nuqpLsk",
        "colab_type": "code",
        "colab": {}
      },
      "source": [
        "# function to Train the model\n",
        "\n",
        "def train(model, criterion, train_loader, validation_loader, optimizer, epochs = 100):\n",
        "    i = 0\n",
        "    loss_accuracy = {'training_loss':[], 'validation_accuracy':[]}  \n",
        "    \n",
        "    for epoch in range(epochs):\n",
        "        for i,(x, y) in enumerate(train_loader):\n",
        "            optimizer.zero_grad()\n",
        "            z = model(x.view(-1, 28 * 28))\n",
        "            loss = criterion(z, y)\n",
        "            loss.backward()\n",
        "            optimizer.step()\n",
        "            loss_accuracy['training_loss'].append(loss.data.item())\n",
        "            \n",
        "        correct = 0\n",
        "        for x, y in validation_loader:\n",
        "            yhat = model(x.view(-1, 28 * 28))\n",
        "            _, label = torch.max(yhat, 1)\n",
        "            correct += (label==y).sum().item()\n",
        "        accuracy = 100 * (correct / len(validation_dataset))\n",
        "        loss_accuracy['validation_accuracy'].append(accuracy)\n",
        "        \n",
        "    return loss_accuracy"
      ],
      "execution_count": 5,
      "outputs": []
    },
    {
      "cell_type": "markdown",
      "metadata": {
        "id": "x0vfAF9jpLso",
        "colab_type": "text"
      },
      "source": [
        "<!--Empty Space for separating topics-->"
      ]
    },
    {
      "cell_type": "markdown",
      "metadata": {
        "id": "hy9lcBGbpLso",
        "colab_type": "text"
      },
      "source": [
        "<h2 id=\"Makeup_Data\">Make Some Data</h2> "
      ]
    },
    {
      "cell_type": "markdown",
      "metadata": {
        "id": "eBgNqDkJpLsp",
        "colab_type": "text"
      },
      "source": [
        "Load the training dataset by setting the parameters <code>train </code> to <code>True</code> and convert it to a tensor  by placing a transform object int the argument <code>transform</code>"
      ]
    },
    {
      "cell_type": "code",
      "metadata": {
        "id": "wN5XYoKcpLsq",
        "colab_type": "code",
        "colab": {
          "base_uri": "https://localhost:8080/",
          "height": 403,
          "referenced_widgets": [
            "52709fdbe2954960b3e689999fdded5a",
            "f6e9353acc1a41da982a0fade794eac6",
            "d3760e4cc5f043a3a14815062ad3bf81",
            "957ae392cd554e7482c8bb2ad610e658",
            "6cd2be83b2404a33af944d3b1da52cfb",
            "f665ef0e0d12435ba1319c033ad49d21",
            "b3b7f305dc6e46a7869808e3a6fcdb8b",
            "e6d76f182083481c9ae821c410fd05bd",
            "c980bd69e7a04ca295e9f06ae2b6b738",
            "0b7ee3a7657049ea847b8982bb27118f",
            "8ba738323d5d42bc9c8cef173067e0b8",
            "54f852a143c643ba9152472c1da768b0",
            "267eb210381d43068d73ab08f6de24e2",
            "15bd18fb93754406be9e1c9c67c0af3d",
            "fd2e391ed72143b1aec266af1b1d6b7b",
            "91ebc31b42604cb499258ddab77c5326",
            "ca84293eccc24117a43365ce351679dd",
            "e0a5f96451ef4a5ab9531caf25ce4709",
            "262a66f26cc64b6aad8753348e98a1dc",
            "609a3a1bb6bd4188a1bace6638b54d3d",
            "27cf87c2951342e0aa84bc7269296eb2",
            "0e1d68a102204d18b1091a5aca29c816",
            "a1195c1cd9e54d699ccc87c0061b1bbf",
            "7232dc941c7e4db690ef1cde32162d9c",
            "aeb42a2e7ff54dcd9af8287827a859b9",
            "63eec1b70ab24d3ab511735ca8d7f590",
            "6e82a327841946ec9c2d05235aa39fce",
            "de9f87afccf24a06827bbdf4e1eb07c8",
            "38ebb5d2335c4852be9945c286292790",
            "2ddd9b1fb9c24291b8eacc75b4cc69bc",
            "c4712c29af0241fa9107124eaf0cfdc5",
            "eeb6d93c69da4eb09aedf769e2a88822"
          ]
        },
        "outputId": "380f56ef-7396-4275-e4cf-2cb471b6ab3d"
      },
      "source": [
        "# Create the train dataset\n",
        "\n",
        "train_dataset = dsets.MNIST(root='./data', train=True, download=True, transform=transforms.ToTensor())"
      ],
      "execution_count": 6,
      "outputs": [
        {
          "output_type": "stream",
          "text": [
            "Downloading http://yann.lecun.com/exdb/mnist/train-images-idx3-ubyte.gz to ./data/MNIST/raw/train-images-idx3-ubyte.gz\n"
          ],
          "name": "stdout"
        },
        {
          "output_type": "display_data",
          "data": {
            "application/vnd.jupyter.widget-view+json": {
              "model_id": "52709fdbe2954960b3e689999fdded5a",
              "version_minor": 0,
              "version_major": 2
            },
            "text/plain": [
              "HBox(children=(FloatProgress(value=1.0, bar_style='info', max=1.0), HTML(value='')))"
            ]
          },
          "metadata": {
            "tags": []
          }
        },
        {
          "output_type": "stream",
          "text": [
            "Extracting ./data/MNIST/raw/train-images-idx3-ubyte.gz to ./data/MNIST/raw\n",
            "Downloading http://yann.lecun.com/exdb/mnist/train-labels-idx1-ubyte.gz to ./data/MNIST/raw/train-labels-idx1-ubyte.gz\n"
          ],
          "name": "stdout"
        },
        {
          "output_type": "display_data",
          "data": {
            "application/vnd.jupyter.widget-view+json": {
              "model_id": "c980bd69e7a04ca295e9f06ae2b6b738",
              "version_minor": 0,
              "version_major": 2
            },
            "text/plain": [
              "HBox(children=(FloatProgress(value=1.0, bar_style='info', max=1.0), HTML(value='')))"
            ]
          },
          "metadata": {
            "tags": []
          }
        },
        {
          "output_type": "stream",
          "text": [
            "Extracting ./data/MNIST/raw/train-labels-idx1-ubyte.gz to ./data/MNIST/raw\n",
            "Downloading http://yann.lecun.com/exdb/mnist/t10k-images-idx3-ubyte.gz to ./data/MNIST/raw/t10k-images-idx3-ubyte.gz\n"
          ],
          "name": "stdout"
        },
        {
          "output_type": "display_data",
          "data": {
            "application/vnd.jupyter.widget-view+json": {
              "model_id": "ca84293eccc24117a43365ce351679dd",
              "version_minor": 0,
              "version_major": 2
            },
            "text/plain": [
              "HBox(children=(FloatProgress(value=1.0, bar_style='info', max=1.0), HTML(value='')))"
            ]
          },
          "metadata": {
            "tags": []
          }
        },
        {
          "output_type": "stream",
          "text": [
            "Extracting ./data/MNIST/raw/t10k-images-idx3-ubyte.gz to ./data/MNIST/raw\n",
            "Downloading http://yann.lecun.com/exdb/mnist/t10k-labels-idx1-ubyte.gz to ./data/MNIST/raw/t10k-labels-idx1-ubyte.gz\n"
          ],
          "name": "stdout"
        },
        {
          "output_type": "display_data",
          "data": {
            "application/vnd.jupyter.widget-view+json": {
              "model_id": "aeb42a2e7ff54dcd9af8287827a859b9",
              "version_minor": 0,
              "version_major": 2
            },
            "text/plain": [
              "HBox(children=(FloatProgress(value=1.0, bar_style='info', max=1.0), HTML(value='')))"
            ]
          },
          "metadata": {
            "tags": []
          }
        },
        {
          "output_type": "stream",
          "text": [
            "Extracting ./data/MNIST/raw/t10k-labels-idx1-ubyte.gz to ./data/MNIST/raw\n",
            "Processing...\n",
            "\n",
            "\n",
            "\n",
            "Done!\n"
          ],
          "name": "stdout"
        },
        {
          "output_type": "stream",
          "text": [
            "/pytorch/torch/csrc/utils/tensor_numpy.cpp:141: UserWarning: The given NumPy array is not writeable, and PyTorch does not support non-writeable tensors. This means you can write to the underlying (supposedly non-writeable) NumPy array using the tensor. You may want to copy the array to protect its data or make it writeable before converting it to a tensor. This type of warning will be suppressed for the rest of this program.\n"
          ],
          "name": "stderr"
        }
      ]
    },
    {
      "cell_type": "markdown",
      "metadata": {
        "id": "eBo5BzeepLss",
        "colab_type": "text"
      },
      "source": [
        "Load the testing dataset by setting the parameters <code>train</code> to <code>False</code> and convert it to a tensor  by placing a transform object int the argument <code>transform</code>"
      ]
    },
    {
      "cell_type": "code",
      "metadata": {
        "id": "pc5t7C4apLst",
        "colab_type": "code",
        "colab": {}
      },
      "source": [
        "# Create the validation dataset\n",
        "\n",
        "validation_dataset = dsets.MNIST(root='./data', train=False, download=True, transform=transforms.ToTensor())"
      ],
      "execution_count": 7,
      "outputs": []
    },
    {
      "cell_type": "markdown",
      "metadata": {
        "id": "LSsb5fMGpLsw",
        "colab_type": "text"
      },
      "source": [
        "Create the training-data loader and the validation-data loader object "
      ]
    },
    {
      "cell_type": "code",
      "metadata": {
        "id": "u-1KjolKpLsx",
        "colab_type": "code",
        "colab": {}
      },
      "source": [
        "# Create Dataloader for both train dataset and validation dataset\n",
        "\n",
        "train_loader = torch.utils.data.DataLoader(dataset=train_dataset, batch_size=2000, shuffle=True)\n",
        "validation_loader = torch.utils.data.DataLoader(dataset=validation_dataset, batch_size=5000, shuffle=False)"
      ],
      "execution_count": 8,
      "outputs": []
    },
    {
      "cell_type": "markdown",
      "metadata": {
        "id": "Si0dwMt-pLs0",
        "colab_type": "text"
      },
      "source": [
        "<!--Empty Space for separating topics-->"
      ]
    },
    {
      "cell_type": "markdown",
      "metadata": {
        "id": "j9YJItq-pLs0",
        "colab_type": "text"
      },
      "source": [
        "<h2 id=\"Cost\">Define Neural Network, Criterion function, Optimizer and Train the Model</h2> "
      ]
    },
    {
      "cell_type": "markdown",
      "metadata": {
        "id": "Q1QhT77_pLs1",
        "colab_type": "text"
      },
      "source": [
        "Create the criterion function"
      ]
    },
    {
      "cell_type": "code",
      "metadata": {
        "id": "LX7AD62DpLs1",
        "colab_type": "code",
        "colab": {}
      },
      "source": [
        "# Define criterion function\n",
        "\n",
        "criterion = nn.CrossEntropyLoss()"
      ],
      "execution_count": 9,
      "outputs": []
    },
    {
      "cell_type": "markdown",
      "metadata": {
        "id": "jHxecZRzpLs4",
        "colab_type": "text"
      },
      "source": [
        "Create the model with 100 hidden layers  "
      ]
    },
    {
      "cell_type": "code",
      "metadata": {
        "id": "vKAVbsRNpLs4",
        "colab_type": "code",
        "colab": {}
      },
      "source": [
        "# Set the parameters\n",
        "\n",
        "input_dim = 28 * 28\n",
        "output_dim = 10\n",
        "layers = [input_dim, 100, 10, 100, 10, 100, output_dim]\n",
        "epochs = 15"
      ],
      "execution_count": 10,
      "outputs": []
    },
    {
      "cell_type": "markdown",
      "metadata": {
        "id": "AgAK7prSpLs7",
        "colab_type": "text"
      },
      "source": [
        "<!--Empty Space for separating topics-->"
      ]
    },
    {
      "cell_type": "markdown",
      "metadata": {
        "id": "54mQ5_NMpLs7",
        "colab_type": "text"
      },
      "source": [
        "<h2 id=\"Train\">Test PyTorch Default Initialization, Xavier Initialization, Uniform Initialization</h2> "
      ]
    },
    {
      "cell_type": "markdown",
      "metadata": {
        "id": "IqUnehUQpLs8",
        "colab_type": "text"
      },
      "source": [
        "Train the network using PyTorch Default Initialization"
      ]
    },
    {
      "cell_type": "code",
      "metadata": {
        "id": "l2JUuGKgpLs8",
        "colab_type": "code",
        "colab": {}
      },
      "source": [
        "# Train the model with default initialization\n",
        "\n",
        "model = Net(layers)\n",
        "learning_rate = 0.01\n",
        "optimizer = torch.optim.SGD(model.parameters(), lr=learning_rate)\n",
        "training_results = train(model, criterion, train_loader, validation_loader, optimizer, epochs=epochs)"
      ],
      "execution_count": 11,
      "outputs": []
    },
    {
      "cell_type": "markdown",
      "metadata": {
        "id": "ijYF6RrepLs_",
        "colab_type": "text"
      },
      "source": [
        "Train the network using Xavier Initialization function"
      ]
    },
    {
      "cell_type": "code",
      "metadata": {
        "id": "tCRdLAucpLtA",
        "colab_type": "code",
        "colab": {}
      },
      "source": [
        "# Train the model with Xavier initialization\n",
        "\n",
        "model_Xavier = Net_Xavier(layers)\n",
        "optimizer = torch.optim.SGD(model_Xavier.parameters(), lr=learning_rate)\n",
        "training_results_Xavier = train(model_Xavier, criterion, train_loader, validation_loader, optimizer, epochs=epochs)"
      ],
      "execution_count": 12,
      "outputs": []
    },
    {
      "cell_type": "markdown",
      "metadata": {
        "id": "Tv1BVeOMpLtE",
        "colab_type": "text"
      },
      "source": [
        "Train the network using Uniform Initialization"
      ]
    },
    {
      "cell_type": "code",
      "metadata": {
        "id": "8LFoMtnapLtF",
        "colab_type": "code",
        "colab": {}
      },
      "source": [
        "# Train the model with Uniform initialization\n",
        "\n",
        "model_Uniform = Net_Uniform(layers)\n",
        "optimizer = torch.optim.SGD(model_Uniform.parameters(), lr=learning_rate)\n",
        "training_results_Uniform = train(model_Uniform, criterion, train_loader, validation_loader, optimizer, epochs=epochs)"
      ],
      "execution_count": 13,
      "outputs": []
    },
    {
      "cell_type": "markdown",
      "metadata": {
        "id": "1CoV4vqEpLtH",
        "colab_type": "text"
      },
      "source": [
        "<!--Empty Space for separating topics-->"
      ]
    },
    {
      "cell_type": "markdown",
      "metadata": {
        "id": "rBpu6T_WpLtH",
        "colab_type": "text"
      },
      "source": [
        "<h2 id=\"Result\">Analyse Results</h2> "
      ]
    },
    {
      "cell_type": "markdown",
      "metadata": {
        "id": "bNpB5UfFpLtI",
        "colab_type": "text"
      },
      "source": [
        "Compare the training loss for each initialization"
      ]
    },
    {
      "cell_type": "code",
      "metadata": {
        "id": "17QRl_xrpLtI",
        "colab_type": "code",
        "colab": {
          "base_uri": "https://localhost:8080/",
          "height": 312
        },
        "outputId": "ce6698db-4699-426e-df47-4b577e6e6c48"
      },
      "source": [
        "# Plot the loss\n",
        "\n",
        "plt.plot(training_results_Xavier['training_loss'], label='Xavier')\n",
        "plt.plot(training_results['training_loss'], label='Default')\n",
        "plt.plot(training_results_Uniform['training_loss'], label='Uniform')\n",
        "plt.ylabel('loss')\n",
        "plt.xlabel('iteration ')  \n",
        "plt.title('training loss iterations')\n",
        "plt.legend()"
      ],
      "execution_count": 14,
      "outputs": [
        {
          "output_type": "execute_result",
          "data": {
            "text/plain": [
              "<matplotlib.legend.Legend at 0x7f03c25b7f98>"
            ]
          },
          "metadata": {
            "tags": []
          },
          "execution_count": 14
        },
        {
          "output_type": "display_data",
          "data": {
            "image/png": "[encoded data removed]",
            "text/plain": [
              "<Figure size 432x288 with 1 Axes>"
            ]
          },
          "metadata": {
            "tags": [],
            "needs_background": "light"
          }
        }
      ]
    },
    {
      "cell_type": "markdown",
      "metadata": {
        "id": "TYxESSKapLtL",
        "colab_type": "text"
      },
      "source": [
        "compare the validation loss for each model  "
      ]
    },
    {
      "cell_type": "code",
      "metadata": {
        "id": "_06LD28QpLtL",
        "colab_type": "code",
        "colab": {
          "base_uri": "https://localhost:8080/",
          "height": 296
        },
        "outputId": "63c581bb-3754-4204-9d94-d6f419238e17"
      },
      "source": [
        "# Plot the accuracy\n",
        "\n",
        "plt.plot(training_results_Xavier['validation_accuracy'], label='Xavier')\n",
        "plt.plot(training_results['validation_accuracy'], label='Default')\n",
        "plt.plot(training_results_Uniform['validation_accuracy'], label='Uniform') \n",
        "plt.ylabel('validation accuracy')\n",
        "plt.xlabel('epochs')   \n",
        "plt.legend()"
      ],
      "execution_count": 15,
      "outputs": [
        {
          "output_type": "execute_result",
          "data": {
            "text/plain": [
              "<matplotlib.legend.Legend at 0x7f03c26fbc50>"
            ]
          },
          "metadata": {
            "tags": []
          },
          "execution_count": 15
        },
        {
          "output_type": "display_data",
          "data": {
            "image/png": "[encoded data removed]",
            "text/plain": [
              "<Figure size 432x288 with 1 Axes>"
            ]
          },
          "metadata": {
            "tags": [],
            "needs_background": "light"
          }
        }
      ]
    },
    {
      "cell_type": "markdown",
      "metadata": {
        "id": "8U2MzcT8pLtN",
        "colab_type": "text"
      },
      "source": [
        "<!--Empty Space for separating topics-->"
      ]
    }
  ]
}