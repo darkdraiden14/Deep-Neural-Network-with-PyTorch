{
  "nbformat": 4,
  "nbformat_minor": 0,
  "metadata": {
    "kernelspec": {
      "display_name": "Python",
      "language": "python",
      "name": "conda-env-python-py"
    },
    "language_info": {
      "codemirror_mode": {
        "name": "ipython",
        "version": 3
      },
      "file_extension": ".py",
      "mimetype": "text/x-python",
      "name": "python",
      "nbconvert_exporter": "python",
      "pygments_lexer": "ipython3",
      "version": "3.6.10"
    },
    "colab": {
      "name": "8.2.1dropoutPredictin_v2.ipynb",
      "provenance": [],
      "include_colab_link": true
    }
  },
  "cells": [
    {
      "cell_type": "markdown",
      "metadata": {
        "id": "view-in-github",
        "colab_type": "text"
      },
      "source": [
        "<a href=\"https://colab.research.google.com/github/darkdraiden14/Deep-Neural-Network-with-PyTorch/blob/master/Dropout%20Prediction.ipynb\" target=\"_parent\"><img src=\"https://colab.research.google.com/assets/colab-badge.svg\" alt=\"Open In Colab\"/></a>"
      ]
    },
    {
      "cell_type": "markdown",
      "metadata": {
        "id": "BoLXjWodiovA",
        "colab_type": "text"
      },
      "source": [
        "<h1>Using Dropout for Classification </h1>"
      ]
    },
    {
      "cell_type": "markdown",
      "metadata": {
        "id": "rUjMiAxViovA",
        "colab_type": "text"
      },
      "source": [
        "<h2>Table of Contents</h2>\n",
        "<p>In this lab, you will see how adding dropout to your model will decrease overfitting.</p>\n",
        "\n",
        "<ul>\n",
        "<li><a href=\"#Makeup_Data\">Make Some Data</a></li>\n",
        "<li><a href=\"#Model_Cost\">Create the Model and Cost Function the PyTorch way</a></li>\n",
        "<li><a href=\"#BGD\">Batch Gradient Descent</a></li>\n",
        "</ul>\n",
        "<p>Estimated Time Needed: <strong>20 min</strong></p>\n",
        "\n",
        "<hr>"
      ]
    },
    {
      "cell_type": "markdown",
      "metadata": {
        "id": "zxqOX8eNiovB",
        "colab_type": "text"
      },
      "source": [
        "<h2>Preparation</h2>"
      ]
    },
    {
      "cell_type": "markdown",
      "metadata": {
        "id": "GiYCx8MsiovC",
        "colab_type": "text"
      },
      "source": [
        "We'll need the following libraries"
      ]
    },
    {
      "cell_type": "code",
      "metadata": {
        "id": "vRnW1lJAiovC",
        "colab_type": "code",
        "colab": {}
      },
      "source": [
        "# Import the libraries we need for this lab\n",
        "\n",
        "import torch\n",
        "import matplotlib.pyplot as plt\n",
        "import torch.nn as nn\n",
        "import torch.nn.functional as F\n",
        "import numpy as np\n",
        "from matplotlib.colors import ListedColormap\n",
        "from torch.utils.data import Dataset, DataLoader"
      ],
      "execution_count": 1,
      "outputs": []
    },
    {
      "cell_type": "markdown",
      "metadata": {
        "id": "YxZkKaBTiovG",
        "colab_type": "text"
      },
      "source": [
        "Use this function only for plotting:"
      ]
    },
    {
      "cell_type": "code",
      "metadata": {
        "id": "YRciFRYtiovG",
        "colab_type": "code",
        "colab": {}
      },
      "source": [
        "# The function for plotting the diagram\n",
        "\n",
        "def plot_decision_regions_3class(data_set, model=None):\n",
        "    cmap_light = ListedColormap([ '#0000FF','#FF0000'])\n",
        "    cmap_bold = ListedColormap(['#FF0000', '#00FF00', '#00AAFF'])\n",
        "    X = data_set.x.numpy()\n",
        "    y = data_set.y.numpy()\n",
        "    h = .02\n",
        "    x_min, x_max = X[:, 0].min() - 0.1, X[:, 0].max() + 0.1 \n",
        "    y_min, y_max = X[:, 1].min() - 0.1, X[:, 1].max() + 0.1 \n",
        "    xx, yy = np.meshgrid(np.arange(x_min, x_max, h), np.arange(y_min, y_max, h))\n",
        "    newdata = np.c_[xx.ravel(), yy.ravel()]\n",
        "    \n",
        "    Z = data_set.multi_dim_poly(newdata).flatten()\n",
        "    f = np.zeros(Z.shape)\n",
        "    f[Z > 0] = 1\n",
        "    f = f.reshape(xx.shape)\n",
        "    if model != None:\n",
        "        model.eval()\n",
        "        XX = torch.Tensor(newdata)\n",
        "        _, yhat = torch.max(model(XX), 1)\n",
        "        yhat = yhat.numpy().reshape(xx.shape)\n",
        "        plt.pcolormesh(xx, yy, yhat, cmap=cmap_light)\n",
        "        plt.contour(xx, yy, f, cmap=plt.cm.Paired)\n",
        "    else:\n",
        "        plt.contour(xx, yy, f, cmap=plt.cm.Paired)\n",
        "        plt.pcolormesh(xx, yy, f, cmap=cmap_light) \n",
        "\n",
        "    plt.title(\"decision region vs True decision boundary\")"
      ],
      "execution_count": 2,
      "outputs": []
    },
    {
      "cell_type": "markdown",
      "metadata": {
        "id": "0GsZ6vkXiovJ",
        "colab_type": "text"
      },
      "source": [
        "Use this function to calculate accuracy: "
      ]
    },
    {
      "cell_type": "code",
      "metadata": {
        "id": "JMpUbXu6iovK",
        "colab_type": "code",
        "colab": {}
      },
      "source": [
        "# The function for calculating accuracy\n",
        "\n",
        "def accuracy(model, data_set):\n",
        "    _, yhat = torch.max(model(data_set.x), 1)\n",
        "    return (yhat == data_set.y).numpy().mean()"
      ],
      "execution_count": 3,
      "outputs": []
    },
    {
      "cell_type": "markdown",
      "metadata": {
        "id": "Y_DfFa-piovN",
        "colab_type": "text"
      },
      "source": [
        "<!--Empty Space for separating topics-->"
      ]
    },
    {
      "cell_type": "markdown",
      "metadata": {
        "id": "Kt1jW-MFiovO",
        "colab_type": "text"
      },
      "source": [
        "<h2 id=\"Makeup_Data\">Make Some Data</h2>"
      ]
    },
    {
      "cell_type": "markdown",
      "metadata": {
        "id": "9BfWPeebiovO",
        "colab_type": "text"
      },
      "source": [
        "Create a nonlinearly separable dataset:    "
      ]
    },
    {
      "cell_type": "code",
      "metadata": {
        "id": "d0AIju3OiovP",
        "colab_type": "code",
        "colab": {}
      },
      "source": [
        "# Create data class for creating dataset object\n",
        "\n",
        "class Data(Dataset):\n",
        "    \n",
        "    # Constructor\n",
        "    def __init__(self, N_SAMPLES=1000, noise_std=0.15, train=True):\n",
        "        a = np.matrix([-1, 1, 2, 1, 1, -3, 1]).T\n",
        "        self.x = np.matrix(np.random.rand(N_SAMPLES, 2))\n",
        "        self.f = np.array(a[0] + (self.x) * a[1:3] + np.multiply(self.x[:, 0], self.x[:, 1]) * a[4] + np.multiply(self.x, self.x) * a[5:7]).flatten()\n",
        "        self.a = a\n",
        "       \n",
        "        self.y = np.zeros(N_SAMPLES)\n",
        "        self.y[self.f > 0] = 1\n",
        "        self.y = torch.from_numpy(self.y).type(torch.LongTensor)\n",
        "        self.x = torch.from_numpy(self.x).type(torch.FloatTensor)\n",
        "        self.x = self.x + noise_std * torch.randn(self.x.size())\n",
        "        self.f = torch.from_numpy(self.f)\n",
        "        self.a = a\n",
        "        if train == True:\n",
        "            torch.manual_seed(1)\n",
        "            self.x = self.x + noise_std * torch.randn(self.x.size())\n",
        "            torch.manual_seed(0)\n",
        "        \n",
        "    # Getter        \n",
        "    def __getitem__(self, index):    \n",
        "        return self.x[index], self.y[index]\n",
        "    \n",
        "    # Get Length\n",
        "    def __len__(self):\n",
        "        return self.len\n",
        "    \n",
        "    # Plot the diagram\n",
        "    def plot(self):\n",
        "        X = data_set.x.numpy()\n",
        "        y = data_set.y.numpy()\n",
        "        h = .02\n",
        "        x_min, x_max = X[:, 0].min(), X[:, 0].max()\n",
        "        y_min, y_max = X[:, 1].min(), X[:, 1].max() \n",
        "        xx, yy = np.meshgrid(np.arange(x_min, x_max, h), np.arange(y_min, y_max, h))\n",
        "        Z = data_set.multi_dim_poly(np.c_[xx.ravel(), yy.ravel()]).flatten()\n",
        "        f = np.zeros(Z.shape)\n",
        "        f[Z > 0] = 1\n",
        "        f = f.reshape(xx.shape)\n",
        "        \n",
        "        plt.title('True decision boundary  and sample points with noise ')\n",
        "        plt.plot(self.x[self.y == 0, 0].numpy(), self.x[self.y == 0,1].numpy(), 'bo', label='y=0') \n",
        "        plt.plot(self.x[self.y == 1, 0].numpy(), self.x[self.y == 1,1].numpy(), 'ro', label='y=1')\n",
        "        plt.contour(xx, yy, f,cmap=plt.cm.Paired)\n",
        "        plt.xlim(0,1)\n",
        "        plt.ylim(0,1)\n",
        "        plt.legend()\n",
        "    \n",
        "    # Make a multidimension ploynomial function\n",
        "    def multi_dim_poly(self, x):\n",
        "        x = np.matrix(x)\n",
        "        out = np.array(self.a[0] + (x) * self.a[1:3] + np.multiply(x[:, 0], x[:, 1]) * self.a[4] + np.multiply(x, x) * self.a[5:7])\n",
        "        out = np.array(out)\n",
        "        return out"
      ],
      "execution_count": 4,
      "outputs": []
    },
    {
      "cell_type": "markdown",
      "metadata": {
        "id": "G0rmowEqiovS",
        "colab_type": "text"
      },
      "source": [
        "Create a dataset object:"
      ]
    },
    {
      "cell_type": "code",
      "metadata": {
        "id": "xkeyY_MEiovS",
        "colab_type": "code",
        "colab": {
          "base_uri": "https://localhost:8080/",
          "height": 281
        },
        "outputId": "482f8872-05be-4778-db8c-8c1e13a51c72"
      },
      "source": [
        "# Create a dataset object\n",
        "\n",
        "data_set = Data(noise_std=0.2)\n",
        "data_set.plot()"
      ],
      "execution_count": 5,
      "outputs": [
        {
          "output_type": "display_data",
          "data": {
            "image/png": "[encoded data removed]",
            "text/plain": [
              "<Figure size 432x288 with 1 Axes>"
            ]
          },
          "metadata": {
            "tags": [],
            "needs_background": "light"
          }
        }
      ]
    },
    {
      "cell_type": "markdown",
      "metadata": {
        "id": "tpsWFiD6iovW",
        "colab_type": "text"
      },
      "source": [
        "Validation data: "
      ]
    },
    {
      "cell_type": "code",
      "metadata": {
        "id": "yALtnTuxiovX",
        "colab_type": "code",
        "colab": {}
      },
      "source": [
        "# Get some validation data\n",
        "\n",
        "torch.manual_seed(0) \n",
        "validation_set = Data(train=False)"
      ],
      "execution_count": 6,
      "outputs": []
    },
    {
      "cell_type": "markdown",
      "metadata": {
        "id": "LBs06M1biovZ",
        "colab_type": "text"
      },
      "source": [
        "<!--Empty Space for separating topics-->"
      ]
    },
    {
      "cell_type": "markdown",
      "metadata": {
        "id": "7zOw243Uiova",
        "colab_type": "text"
      },
      "source": [
        "<h2 id=\"Model_Cost\">Create the Model, Optimizer, and Total Loss Function (Cost)</h2>"
      ]
    },
    {
      "cell_type": "markdown",
      "metadata": {
        "id": "jRm88cxAiova",
        "colab_type": "text"
      },
      "source": [
        "Create a custom module with three layers. <code>in_size</code> is the size of the input features, <code>n_hidden</code> is the size of the layers, and <code>out_size</code> is the size. <code>p</code> is the dropout probability. The default is 0, that is, no dropout.\n"
      ]
    },
    {
      "cell_type": "code",
      "metadata": {
        "id": "RyP8KjcNiovb",
        "colab_type": "code",
        "colab": {}
      },
      "source": [
        "# Create Net Class\n",
        "\n",
        "class Net(nn.Module):\n",
        "    \n",
        "    # Constructor\n",
        "    def __init__(self, in_size, n_hidden, out_size, p=0):\n",
        "        super(Net, self).__init__()\n",
        "        self.drop = nn.Dropout(p=p)\n",
        "        self.linear1 = nn.Linear(in_size, n_hidden)\n",
        "        self.linear2 = nn.Linear(n_hidden, n_hidden)\n",
        "        self.linear3 = nn.Linear(n_hidden, out_size)\n",
        "    \n",
        "    # Prediction function\n",
        "    def forward(self, x):\n",
        "        x = F.relu(self.drop(self.linear1(x)))\n",
        "        x = F.relu(self.drop(self.linear2(x)))\n",
        "        x = self.linear3(x)\n",
        "        return x"
      ],
      "execution_count": 7,
      "outputs": []
    },
    {
      "cell_type": "markdown",
      "metadata": {
        "id": "8JSke1GZiovd",
        "colab_type": "text"
      },
      "source": [
        "Create two model objects: <code>model</code> had no dropout and <code>model_drop</code> has a dropout probability of 0.5:"
      ]
    },
    {
      "cell_type": "code",
      "metadata": {
        "id": "7P4KWClSiove",
        "colab_type": "code",
        "colab": {}
      },
      "source": [
        "# Create two model objects: model without dropout and model with dropout\n",
        "\n",
        "model = Net(2, 300, 2)\n",
        "model_drop = Net(2, 300, 2, p=0.5)"
      ],
      "execution_count": 8,
      "outputs": []
    },
    {
      "cell_type": "markdown",
      "metadata": {
        "id": "MJJ3eabAiovh",
        "colab_type": "text"
      },
      "source": [
        "<!--Empty Space for separating topics-->"
      ]
    },
    {
      "cell_type": "markdown",
      "metadata": {
        "id": "xGlwatt8iovi",
        "colab_type": "text"
      },
      "source": [
        "<h2 id=\"BGD\">Train the Model via Mini-Batch Gradient Descent</h2>"
      ]
    },
    {
      "cell_type": "markdown",
      "metadata": {
        "id": "EYJvg_72iovj",
        "colab_type": "text"
      },
      "source": [
        "Set the model using dropout to training mode; this is the default mode, but it's  good practice to write this in your code : "
      ]
    },
    {
      "cell_type": "code",
      "metadata": {
        "id": "zSjNEsVoiovk",
        "colab_type": "code",
        "colab": {
          "base_uri": "https://localhost:8080/",
          "height": 119
        },
        "outputId": "56f10eca-43d8-4f0a-b9e8-30cc7caed49d"
      },
      "source": [
        "# Set the model to training mode\n",
        "\n",
        "model_drop.train()"
      ],
      "execution_count": 9,
      "outputs": [
        {
          "output_type": "execute_result",
          "data": {
            "text/plain": [
              "Net(\n",
              "  (drop): Dropout(p=0.5, inplace=False)\n",
              "  (linear1): Linear(in_features=2, out_features=300, bias=True)\n",
              "  (linear2): Linear(in_features=300, out_features=300, bias=True)\n",
              "  (linear3): Linear(in_features=300, out_features=2, bias=True)\n",
              ")"
            ]
          },
          "metadata": {
            "tags": []
          },
          "execution_count": 9
        }
      ]
    },
    {
      "cell_type": "markdown",
      "metadata": {
        "id": "ff2cvQ82iovn",
        "colab_type": "text"
      },
      "source": [
        "Train the model by using the Adam optimizer. See the unit on other optimizers. Use the Cross Entropy Loss:"
      ]
    },
    {
      "cell_type": "code",
      "metadata": {
        "id": "RkXYRU2kiovn",
        "colab_type": "code",
        "colab": {}
      },
      "source": [
        "# Set optimizer functions and criterion functions\n",
        "\n",
        "optimizer_ofit = torch.optim.Adam(model.parameters(), lr=0.01)\n",
        "optimizer_drop = torch.optim.Adam(model_drop.parameters(), lr=0.01)\n",
        "criterion = torch.nn.CrossEntropyLoss()"
      ],
      "execution_count": 10,
      "outputs": []
    },
    {
      "cell_type": "markdown",
      "metadata": {
        "id": "PIQXBbrdiovp",
        "colab_type": "text"
      },
      "source": [
        "Initialize a dictionary that stores the training and validation loss for each model:"
      ]
    },
    {
      "cell_type": "code",
      "metadata": {
        "id": "3xpQWzqDiovq",
        "colab_type": "code",
        "colab": {}
      },
      "source": [
        "# Initialize the LOSS dictionary to store the loss\n",
        "\n",
        "LOSS = {}\n",
        "LOSS['training data no dropout'] = []\n",
        "LOSS['validation data no dropout'] = []\n",
        "LOSS['training data dropout'] = []\n",
        "LOSS['validation data dropout'] = []"
      ],
      "execution_count": 11,
      "outputs": []
    },
    {
      "cell_type": "markdown",
      "metadata": {
        "id": "sUP6hfcfiovt",
        "colab_type": "text"
      },
      "source": [
        "Run 500 iterations of batch gradient gradient descent: "
      ]
    },
    {
      "cell_type": "code",
      "metadata": {
        "id": "zFGO6eYliovt",
        "colab_type": "code",
        "colab": {}
      },
      "source": [
        "# Train the model\n",
        "\n",
        "epochs = 500\n",
        "\n",
        "def train_model(epochs):\n",
        "    \n",
        "    for epoch in range(epochs):\n",
        "        #all the samples are used for training \n",
        "        yhat = model(data_set.x)\n",
        "        yhat_drop = model_drop(data_set.x)\n",
        "        loss = criterion(yhat, data_set.y)\n",
        "        loss_drop = criterion(yhat_drop, data_set.y)\n",
        "\n",
        "        #store the loss for both the training and validation data for both models \n",
        "        LOSS['training data no dropout'].append(loss.item())\n",
        "        LOSS['validation data no dropout'].append(criterion(model(validation_set.x), validation_set.y).item())\n",
        "        LOSS['training data dropout'].append(loss_drop.item())\n",
        "        model_drop.eval()\n",
        "        LOSS['validation data dropout'].append(criterion(model_drop(validation_set.x), validation_set.y).item())\n",
        "        model_drop.train()\n",
        "\n",
        "        optimizer_ofit.zero_grad()\n",
        "        optimizer_drop.zero_grad()\n",
        "        loss.backward()\n",
        "        loss_drop.backward()\n",
        "        optimizer_ofit.step()\n",
        "        optimizer_drop.step()\n",
        "        \n",
        "train_model(epochs)"
      ],
      "execution_count": 12,
      "outputs": []
    },
    {
      "cell_type": "markdown",
      "metadata": {
        "id": "5VUttYw6iovx",
        "colab_type": "text"
      },
      "source": [
        "Set the model with dropout to evaluation mode: "
      ]
    },
    {
      "cell_type": "code",
      "metadata": {
        "id": "KBF4ANuviovx",
        "colab_type": "code",
        "colab": {
          "base_uri": "https://localhost:8080/",
          "height": 119
        },
        "outputId": "2a00224f-6455-4993-c6f4-63a1e0e8b38d"
      },
      "source": [
        "# Set the model to evaluation model\n",
        "\n",
        "model_drop.eval()"
      ],
      "execution_count": 13,
      "outputs": [
        {
          "output_type": "execute_result",
          "data": {
            "text/plain": [
              "Net(\n",
              "  (drop): Dropout(p=0.5, inplace=False)\n",
              "  (linear1): Linear(in_features=2, out_features=300, bias=True)\n",
              "  (linear2): Linear(in_features=300, out_features=300, bias=True)\n",
              "  (linear3): Linear(in_features=300, out_features=2, bias=True)\n",
              ")"
            ]
          },
          "metadata": {
            "tags": []
          },
          "execution_count": 13
        }
      ]
    },
    {
      "cell_type": "markdown",
      "metadata": {
        "id": "ML_h1D5Tiov0",
        "colab_type": "text"
      },
      "source": [
        "Test the model without dropout on the validation data: "
      ]
    },
    {
      "cell_type": "code",
      "metadata": {
        "id": "HTOHD9KGiov1",
        "colab_type": "code",
        "colab": {
          "base_uri": "https://localhost:8080/",
          "height": 34
        },
        "outputId": "0e92a1fe-878d-4e8f-c9fd-cc8fc1917dc3"
      },
      "source": [
        "# Print out the accuracy of the model without dropout\n",
        "\n",
        "print(\"The accuracy of the model without dropout: \", accuracy(model, validation_set))"
      ],
      "execution_count": 14,
      "outputs": [
        {
          "output_type": "stream",
          "text": [
            "The accuracy of the model without dropout:  0.696\n"
          ],
          "name": "stdout"
        }
      ]
    },
    {
      "cell_type": "markdown",
      "metadata": {
        "id": "GAm503a3iov3",
        "colab_type": "text"
      },
      "source": [
        "Test the model with dropout on the validation data: "
      ]
    },
    {
      "cell_type": "code",
      "metadata": {
        "id": "kXsExXypiov4",
        "colab_type": "code",
        "colab": {
          "base_uri": "https://localhost:8080/",
          "height": 34
        },
        "outputId": "8e29bdd9-7a1b-417e-dc22-06a2a4c87bdc"
      },
      "source": [
        "# Print out the accuracy of the model with dropout\n",
        "\n",
        "print(\"The accuracy of the model with dropout: \", accuracy(model_drop, validation_set))"
      ],
      "execution_count": 15,
      "outputs": [
        {
          "output_type": "stream",
          "text": [
            "The accuracy of the model with dropout:  0.818\n"
          ],
          "name": "stdout"
        }
      ]
    },
    {
      "cell_type": "markdown",
      "metadata": {
        "id": "3SJJ7WEGiov6",
        "colab_type": "text"
      },
      "source": [
        "You see that the model with dropout performs better on the validation data."
      ]
    },
    {
      "cell_type": "markdown",
      "metadata": {
        "id": "Ej0xk3QUiov6",
        "colab_type": "text"
      },
      "source": [
        "<h3>True Function</h3>"
      ]
    },
    {
      "cell_type": "markdown",
      "metadata": {
        "id": "T7H6iD52iov7",
        "colab_type": "text"
      },
      "source": [
        "Plot the decision boundary and the prediction of the networks in different colors."
      ]
    },
    {
      "cell_type": "code",
      "metadata": {
        "id": "dKqojsJqiov7",
        "colab_type": "code",
        "colab": {
          "base_uri": "https://localhost:8080/",
          "height": 281
        },
        "outputId": "96a9ecec-a5fb-4657-94a3-9edecd1510ad"
      },
      "source": [
        "# Plot the decision boundary and the prediction\n",
        "\n",
        "plot_decision_regions_3class(data_set)"
      ],
      "execution_count": 16,
      "outputs": [
        {
          "output_type": "display_data",
          "data": {
            "image/png": "[encoded data removed]",
            "text/plain": [
              "<Figure size 432x288 with 1 Axes>"
            ]
          },
          "metadata": {
            "tags": [],
            "needs_background": "light"
          }
        }
      ]
    },
    {
      "cell_type": "markdown",
      "metadata": {
        "id": "YVV2Wv52iov9",
        "colab_type": "text"
      },
      "source": [
        "Model without Dropout:"
      ]
    },
    {
      "cell_type": "code",
      "metadata": {
        "id": "jS4dQuFwiov9",
        "colab_type": "code",
        "colab": {
          "base_uri": "https://localhost:8080/",
          "height": 281
        },
        "outputId": "31c423c0-0979-49b4-9a4e-439c42bbf3cd"
      },
      "source": [
        "# The model without dropout\n",
        "\n",
        "plot_decision_regions_3class(data_set, model)"
      ],
      "execution_count": 17,
      "outputs": [
        {
          "output_type": "display_data",
          "data": {
            "image/png": "[encoded data removed]",
            "text/plain": [
              "<Figure size 432x288 with 1 Axes>"
            ]
          },
          "metadata": {
            "tags": [],
            "needs_background": "light"
          }
        }
      ]
    },
    {
      "cell_type": "markdown",
      "metadata": {
        "id": "BXlfX3VJiowA",
        "colab_type": "text"
      },
      "source": [
        "Model with Dropout:"
      ]
    },
    {
      "cell_type": "code",
      "metadata": {
        "id": "a2i-g16-iowA",
        "colab_type": "code",
        "colab": {
          "base_uri": "https://localhost:8080/",
          "height": 281
        },
        "outputId": "c7665128-3062-4273-856e-75ce09ac87e2"
      },
      "source": [
        "# The model with dropout\n",
        "\n",
        "plot_decision_regions_3class(data_set, model_drop)"
      ],
      "execution_count": 18,
      "outputs": [
        {
          "output_type": "display_data",
          "data": {
            "image/png": "[encoded data removed]",
            "text/plain": [
              "<Figure size 432x288 with 1 Axes>"
            ]
          },
          "metadata": {
            "tags": [],
            "needs_background": "light"
          }
        }
      ]
    },
    {
      "cell_type": "markdown",
      "metadata": {
        "id": "GoQFRGCQiowD",
        "colab_type": "text"
      },
      "source": [
        "You can see that the model using dropout does better at tracking the function that generated the data. "
      ]
    },
    {
      "cell_type": "markdown",
      "metadata": {
        "id": "l3y33ePciowE",
        "colab_type": "text"
      },
      "source": [
        "Plot out the loss for the training and validation data on both models, we use the log to make the difference more apparent"
      ]
    },
    {
      "cell_type": "code",
      "metadata": {
        "id": "XVhRb056iowE",
        "colab_type": "code",
        "colab": {
          "base_uri": "https://localhost:8080/",
          "height": 606
        },
        "outputId": "d03b2103-5faf-42e2-caa6-2dd0a1193e20"
      },
      "source": [
        "# Plot the LOSS\n",
        "\n",
        "plt.figure(figsize=(6.1, 10))\n",
        "def plot_LOSS():\n",
        "    for key, value in LOSS.items():\n",
        "        plt.plot(np.log(np.array(value)), label=key)\n",
        "        plt.legend()\n",
        "        plt.xlabel(\"iterations\")\n",
        "        plt.ylabel(\"Log of cost or total loss\")\n",
        "\n",
        "plot_LOSS()"
      ],
      "execution_count": 19,
      "outputs": [
        {
          "output_type": "display_data",
          "data": {
            "image/png": "[encoded data removed]",
            "text/plain": [
              "<Figure size 439.2x720 with 1 Axes>"
            ]
          },
          "metadata": {
            "tags": [],
            "needs_background": "light"
          }
        }
      ]
    },
    {
      "cell_type": "markdown",
      "metadata": {
        "id": "ZuNwlD1CiowI",
        "colab_type": "text"
      },
      "source": [
        "You see that the model without dropout performs better on the training data, but it performs worse on the validation data. This suggests overfitting.  However, the model using dropout performed better on the validation data, but worse on the training data. "
      ]
    },
    {
      "cell_type": "markdown",
      "metadata": {
        "id": "vteDmx8eiowI",
        "colab_type": "text"
      },
      "source": [
        "<!--Empty Space for separating topics-->"
      ]
    }
  ]
}