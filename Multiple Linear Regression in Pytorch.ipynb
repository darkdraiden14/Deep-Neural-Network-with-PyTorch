{
  "nbformat": 4,
  "nbformat_minor": 0,
  "metadata": {
    "kernelspec": {
      "display_name": "Python",
      "language": "python",
      "name": "conda-env-python-py"
    },
    "language_info": {
      "codemirror_mode": {
        "name": "ipython",
        "version": 3
      },
      "file_extension": ".py",
      "mimetype": "text/x-python",
      "name": "python",
      "nbconvert_exporter": "python",
      "pygments_lexer": "ipython3",
      "version": "3.6.7"
    },
    "colab": {
      "name": "4.1.multiple_linear_regression_prediction_v2.ipynb",
      "provenance": [],
      "collapsed_sections": [],
      "include_colab_link": true
    }
  },
  "cells": [
    {
      "cell_type": "markdown",
      "metadata": {
        "id": "view-in-github",
        "colab_type": "text"
      },
      "source": [
        "<a href=\"https://colab.research.google.com/github/darkdraiden14/Deep-Neural-Network-with-PyTorch/blob/master/Multiple%20Linear%20Regression%20in%20Pytorch.ipynb\" target=\"_parent\"><img src=\"https://colab.research.google.com/assets/colab-badge.svg\" alt=\"Open In Colab\"/></a>"
      ]
    },
    {
      "cell_type": "markdown",
      "metadata": {
        "id": "sZSUFyZYM3cJ",
        "colab_type": "text"
      },
      "source": [
        "<h1>Multiple Linear Regression</h1>"
      ]
    },
    {
      "cell_type": "markdown",
      "metadata": {
        "id": "nIBgIKM6M3cN",
        "colab_type": "text"
      },
      "source": [
        "<h2>Preparation</h2>"
      ]
    },
    {
      "cell_type": "markdown",
      "metadata": {
        "id": "tW3QtbSJM3cQ",
        "colab_type": "text"
      },
      "source": [
        "Import the libraries and set the random seed."
      ]
    },
    {
      "cell_type": "code",
      "metadata": {
        "id": "oN441scnM3cR",
        "colab_type": "code",
        "colab": {
          "base_uri": "https://localhost:8080/",
          "height": 34
        },
        "outputId": "92e27b74-aace-4542-d477-5fe8dae38fc9"
      },
      "source": [
        "# Import the libraries and set the random seed\n",
        "\n",
        "from torch import nn\n",
        "import torch\n",
        "torch.manual_seed(1)"
      ],
      "execution_count": 1,
      "outputs": [
        {
          "output_type": "execute_result",
          "data": {
            "text/plain": [
              "<torch._C.Generator at 0x7fc6290d52f0>"
            ]
          },
          "metadata": {
            "tags": []
          },
          "execution_count": 1
        }
      ]
    },
    {
      "cell_type": "markdown",
      "metadata": {
        "id": "3vo9ctaTM3cc",
        "colab_type": "text"
      },
      "source": [
        "<h2 id=\"Prediction\">Prediction</h2>"
      ]
    },
    {
      "cell_type": "markdown",
      "metadata": {
        "id": "_O6eh8T5M3ce",
        "colab_type": "text"
      },
      "source": [
        "Set weight and bias."
      ]
    },
    {
      "cell_type": "code",
      "metadata": {
        "id": "rbj3rIW1M3cg",
        "colab_type": "code",
        "colab": {}
      },
      "source": [
        "# Set the weight and bias\n",
        "\n",
        "w = torch.tensor([[2.0], [3.0]], requires_grad=True)\n",
        "b = torch.tensor([[1.0]], requires_grad=True)"
      ],
      "execution_count": 0,
      "outputs": []
    },
    {
      "cell_type": "markdown",
      "metadata": {
        "id": "FYynI37wM3co",
        "colab_type": "text"
      },
      "source": [
        "Define the parameters. <code>torch.mm</code> uses matrix multiplication instead of scaler multiplication."
      ]
    },
    {
      "cell_type": "code",
      "metadata": {
        "id": "QGyTlqUyM3cq",
        "colab_type": "code",
        "colab": {}
      },
      "source": [
        "# Define Prediction Function\n",
        "\n",
        "def forward(x):\n",
        "    yhat = torch.mm(x, w) + b\n",
        "    return yhat"
      ],
      "execution_count": 0,
      "outputs": []
    },
    {
      "cell_type": "markdown",
      "metadata": {
        "id": "0-H0jpnqM3cz",
        "colab_type": "text"
      },
      "source": [
        "The function <code>forward</code> implements the following equation:"
      ]
    },
    {
      "cell_type": "markdown",
      "metadata": {
        "id": "xq2iodfjM3c0",
        "colab_type": "text"
      },
      "source": [
        "<img src=\"https://s3-api.us-geo.objectstorage.softlayer.net/cf-courses-data/CognitiveClass/DL0110EN/notebook_images%20/chapter2/2.6.1_matrix_eq.png\" width=\"600\" alt=\"Matrix Linear Regression\"/>"
      ]
    },
    {
      "cell_type": "markdown",
      "metadata": {
        "id": "I-ulxBWZM3c1",
        "colab_type": "text"
      },
      "source": [
        "If we input a <i>1x2</i> tensor, because we have a <i>2x1</i> tensor as <code>w</code>, we will get a <i>1x1</i> tensor: "
      ]
    },
    {
      "cell_type": "code",
      "metadata": {
        "id": "Sklgc_zsM3c2",
        "colab_type": "code",
        "colab": {
          "base_uri": "https://localhost:8080/",
          "height": 34
        },
        "outputId": "08f0846c-d986-49dc-d18c-c6754202d400"
      },
      "source": [
        "# Calculate yhat\n",
        "\n",
        "x = torch.tensor([[1.0, 2.0]])\n",
        "yhat = forward(x)\n",
        "print(\"The result: \", yhat)"
      ],
      "execution_count": 4,
      "outputs": [
        {
          "output_type": "stream",
          "text": [
            "The result:  tensor([[9.]], grad_fn=<AddBackward0>)\n"
          ],
          "name": "stdout"
        }
      ]
    },
    {
      "cell_type": "markdown",
      "metadata": {
        "id": "w0QD2wDgM3c-",
        "colab_type": "text"
      },
      "source": [
        "<img src = \"https://s3-api.us-geo.objectstorage.softlayer.net/cf-courses-data/CognitiveClass/DL0110EN/notebook_images%20/chapter2/2.6.1example.png\" width = \"300\" alt=\"Linear Regression Matrix Sample One\" />"
      ]
    },
    {
      "cell_type": "markdown",
      "metadata": {
        "id": "ew7YYQhVM3c_",
        "colab_type": "text"
      },
      "source": [
        "# Each row of the following tensor represents a sample:"
      ]
    },
    {
      "cell_type": "code",
      "metadata": {
        "id": "izBMQ-UTM3dC",
        "colab_type": "code",
        "colab": {}
      },
      "source": [
        "# Sample tensor X\n",
        "\n",
        "X = torch.tensor([[1.0, 1.0], [1.0, 2.0], [1.0, 3.0]])"
      ],
      "execution_count": 0,
      "outputs": []
    },
    {
      "cell_type": "code",
      "metadata": {
        "id": "cTaIvWQcM3dJ",
        "colab_type": "code",
        "colab": {
          "base_uri": "https://localhost:8080/",
          "height": 68
        },
        "outputId": "d8e2e02c-1988-45b3-95bb-10b53684d0af"
      },
      "source": [
        "# Make the prediction of X \n",
        "\n",
        "yhat = forward(X)\n",
        "print(\"The result: \", yhat)"
      ],
      "execution_count": 6,
      "outputs": [
        {
          "output_type": "stream",
          "text": [
            "The result:  tensor([[ 6.],\n",
            "        [ 9.],\n",
            "        [12.]], grad_fn=<AddBackward0>)\n"
          ],
          "name": "stdout"
        }
      ]
    },
    {
      "cell_type": "markdown",
      "metadata": {
        "id": "XUUf7TxXM3dR",
        "colab_type": "text"
      },
      "source": [
        "<!--Empty Space for separating topics-->"
      ]
    },
    {
      "cell_type": "markdown",
      "metadata": {
        "id": "rnvmA162M3dS",
        "colab_type": "text"
      },
      "source": [
        "<h2 id=\"Linear\">Class Linear</h2>"
      ]
    },
    {
      "cell_type": "markdown",
      "metadata": {
        "id": "F7MFUr-zM3dV",
        "colab_type": "text"
      },
      "source": [
        "We can use the linear class to make a prediction. You'll also use the linear class to build more complex models."
      ]
    },
    {
      "cell_type": "markdown",
      "metadata": {
        "id": "iHMsjIhmM3dW",
        "colab_type": "text"
      },
      "source": [
        "Let us create a model."
      ]
    },
    {
      "cell_type": "code",
      "metadata": {
        "id": "D4aeYbZXM3dY",
        "colab_type": "code",
        "colab": {}
      },
      "source": [
        "# Make a linear regression model using build-in function\n",
        "\n",
        "model = nn.Linear(2, 1)"
      ],
      "execution_count": 0,
      "outputs": []
    },
    {
      "cell_type": "markdown",
      "metadata": {
        "id": "8flwj1u5M3dg",
        "colab_type": "text"
      },
      "source": [
        "Make a prediction with the first sample:"
      ]
    },
    {
      "cell_type": "code",
      "metadata": {
        "id": "ELrVp2GsM3dh",
        "colab_type": "code",
        "colab": {
          "base_uri": "https://localhost:8080/",
          "height": 34
        },
        "outputId": "b7ddd243-4f6d-4c22-b229-f7277d0085cd"
      },
      "source": [
        "# Make a prediction of x\n",
        "\n",
        "yhat = model(x)\n",
        "print(\"The result: \", yhat)"
      ],
      "execution_count": 8,
      "outputs": [
        {
          "output_type": "stream",
          "text": [
            "The result:  tensor([[-0.3969]], grad_fn=<AddmmBackward>)\n"
          ],
          "name": "stdout"
        }
      ]
    },
    {
      "cell_type": "markdown",
      "metadata": {
        "id": "5-zl2dnEM3ds",
        "colab_type": "text"
      },
      "source": [
        "Predict with multiple samples <code>X</code>: "
      ]
    },
    {
      "cell_type": "code",
      "metadata": {
        "id": "bFxeBJ0zM3dv",
        "colab_type": "code",
        "colab": {
          "base_uri": "https://localhost:8080/",
          "height": 68
        },
        "outputId": "37b914d8-412f-43dc-d5db-62ef9f6303c2"
      },
      "source": [
        "# Make a prediction of X\n",
        "\n",
        "yhat = model(X)\n",
        "print(\"The result: \", yhat)"
      ],
      "execution_count": 9,
      "outputs": [
        {
          "output_type": "stream",
          "text": [
            "The result:  tensor([[-0.0848],\n",
            "        [-0.3969],\n",
            "        [-0.7090]], grad_fn=<AddmmBackward>)\n"
          ],
          "name": "stdout"
        }
      ]
    },
    {
      "cell_type": "markdown",
      "metadata": {
        "id": "yh79mlb8M3d2",
        "colab_type": "text"
      },
      "source": [
        "The function performs matrix multiplication as shown in this image:"
      ]
    },
    {
      "cell_type": "markdown",
      "metadata": {
        "id": "ypAIfM7LM3d3",
        "colab_type": "text"
      },
      "source": [
        "<img src = \"https://s3-api.us-geo.objectstorage.softlayer.net/cf-courses-data/CognitiveClass/DL0110EN/notebook_images%20/chapter2/2.6.1multi_sample_example.png\" width = \"600\" alt=\"Linear Regression Matrix Sample One\" />"
      ]
    },
    {
      "cell_type": "markdown",
      "metadata": {
        "id": "h4xOKm6VM3d4",
        "colab_type": "text"
      },
      "source": [
        "<!--Empty Space for separating topics-->"
      ]
    },
    {
      "cell_type": "markdown",
      "metadata": {
        "id": "PBMEKlnYM3d5",
        "colab_type": "text"
      },
      "source": [
        "<h2 id=\"Cust\">Build Custom Modules </h2>"
      ]
    },
    {
      "cell_type": "markdown",
      "metadata": {
        "id": "h3N_s02jM3d6",
        "colab_type": "text"
      },
      "source": [
        "Now, you'll build a custom module. You can make more complex models by using this method later. "
      ]
    },
    {
      "cell_type": "code",
      "metadata": {
        "id": "PHsQtFvuM3d7",
        "colab_type": "code",
        "colab": {}
      },
      "source": [
        "# Create linear_regression Class\n",
        "\n",
        "class linear_regression(nn.Module):\n",
        "    \n",
        "    # Constructor\n",
        "    def __init__(self, input_size, output_size):\n",
        "        super(linear_regression, self).__init__()\n",
        "        self.linear = nn.Linear(input_size, output_size)\n",
        "    \n",
        "    # Prediction function\n",
        "    def forward(self, x):\n",
        "        yhat = self.linear(x)\n",
        "        return yhat"
      ],
      "execution_count": 0,
      "outputs": []
    },
    {
      "cell_type": "markdown",
      "metadata": {
        "id": "qHxo3wfoM3eC",
        "colab_type": "text"
      },
      "source": [
        "Build a linear regression object. The input feature size is two. "
      ]
    },
    {
      "cell_type": "code",
      "metadata": {
        "id": "_fFj379tM3eD",
        "colab_type": "code",
        "colab": {}
      },
      "source": [
        "model = linear_regression(2, 1)"
      ],
      "execution_count": 0,
      "outputs": []
    },
    {
      "cell_type": "markdown",
      "metadata": {
        "id": "QsER5u-kM3eK",
        "colab_type": "text"
      },
      "source": [
        "This will input the following equation:"
      ]
    },
    {
      "cell_type": "markdown",
      "metadata": {
        "id": "Do-_ksJaM3eM",
        "colab_type": "text"
      },
      "source": [
        "<img src=\"https://s3-api.us-geo.objectstorage.softlayer.net/cf-courses-data/CognitiveClass/DL0110EN/notebook_images%20/chapter2/2.6.1_matrix_eq.png\" width=\"600\" alt=\"Matrix Linear Regression\" />"
      ]
    },
    {
      "cell_type": "markdown",
      "metadata": {
        "id": "Wqi92EpUM3eN",
        "colab_type": "text"
      },
      "source": [
        "You can see the randomly initialized parameters by using the <code>parameters()</code> method:"
      ]
    },
    {
      "cell_type": "code",
      "metadata": {
        "id": "r3XlmnICM3eO",
        "colab_type": "code",
        "colab": {
          "base_uri": "https://localhost:8080/",
          "height": 68
        },
        "outputId": "2697b669-085a-47dc-c651-2a7078452872"
      },
      "source": [
        "# Print model parameters\n",
        "\n",
        "print(\"The parameters: \", list(model.parameters()))"
      ],
      "execution_count": 12,
      "outputs": [
        {
          "output_type": "stream",
          "text": [
            "The parameters:  [Parameter containing:\n",
            "tensor([[ 0.3319, -0.6657]], requires_grad=True), Parameter containing:\n",
            "tensor([0.4241], requires_grad=True)]\n"
          ],
          "name": "stdout"
        }
      ]
    },
    {
      "cell_type": "markdown",
      "metadata": {
        "id": "JR95U1qJM3eU",
        "colab_type": "text"
      },
      "source": [
        "You can also see the parameters by using the <code>state_dict()</code> method:"
      ]
    },
    {
      "cell_type": "code",
      "metadata": {
        "id": "F4kG2RKEM3eV",
        "colab_type": "code",
        "colab": {
          "base_uri": "https://localhost:8080/",
          "height": 34
        },
        "outputId": "813a55bd-b892-4444-db97-4265445f17e7"
      },
      "source": [
        "# Print model parameters\n",
        "\n",
        "print(\"The parameters: \", model.state_dict())"
      ],
      "execution_count": 13,
      "outputs": [
        {
          "output_type": "stream",
          "text": [
            "The parameters:  OrderedDict([('linear.weight', tensor([[ 0.3319, -0.6657]])), ('linear.bias', tensor([0.4241]))])\n"
          ],
          "name": "stdout"
        }
      ]
    },
    {
      "cell_type": "markdown",
      "metadata": {
        "id": "PY-guH6IM3eY",
        "colab_type": "text"
      },
      "source": [
        "Now we input a 1x2 tensor, and we will get a 1x1 tensor."
      ]
    },
    {
      "cell_type": "code",
      "metadata": {
        "id": "Ps4mAu4_M3eZ",
        "colab_type": "code",
        "colab": {
          "base_uri": "https://localhost:8080/",
          "height": 34
        },
        "outputId": "745ea584-2764-4e76-8acd-fa3093135f71"
      },
      "source": [
        "# Make a prediction of x\n",
        "\n",
        "yhat = model(x)\n",
        "print(\"The result: \", yhat)"
      ],
      "execution_count": 14,
      "outputs": [
        {
          "output_type": "stream",
          "text": [
            "The result:  tensor([[-0.5754]], grad_fn=<AddmmBackward>)\n"
          ],
          "name": "stdout"
        }
      ]
    },
    {
      "cell_type": "markdown",
      "metadata": {
        "id": "UZz7Yx6KM3ec",
        "colab_type": "text"
      },
      "source": [
        "The shape of the output is shown in the following image: "
      ]
    },
    {
      "cell_type": "markdown",
      "metadata": {
        "id": "NNZ-xLI3M3ed",
        "colab_type": "text"
      },
      "source": [
        "<img src=\"https://s3-api.us-geo.objectstorage.softlayer.net/cf-courses-data/CognitiveClass/DL0110EN/notebook_images%20/chapter2/2.6.1_matrix_eq.png\" width=\"600\" alt=\"Matrix Linear Regression\" />"
      ]
    },
    {
      "cell_type": "markdown",
      "metadata": {
        "id": "WeVy2uuNM3eg",
        "colab_type": "text"
      },
      "source": [
        "Make a prediction for multiple samples:"
      ]
    },
    {
      "cell_type": "code",
      "metadata": {
        "id": "K9fyEvRIM3eg",
        "colab_type": "code",
        "colab": {
          "base_uri": "https://localhost:8080/",
          "height": 68
        },
        "outputId": "8ed35c38-f738-4d02-989a-902a3d9b9f06"
      },
      "source": [
        "# Make a prediction of X\n",
        "\n",
        "yhat = model(X)\n",
        "print(\"The result: \", yhat)"
      ],
      "execution_count": 15,
      "outputs": [
        {
          "output_type": "stream",
          "text": [
            "The result:  tensor([[ 0.0903],\n",
            "        [-0.5754],\n",
            "        [-1.2411]], grad_fn=<AddmmBackward>)\n"
          ],
          "name": "stdout"
        }
      ]
    },
    {
      "cell_type": "markdown",
      "metadata": {
        "id": "Cj0-pu4DM3ek",
        "colab_type": "text"
      },
      "source": [
        "The shape is shown in the following image: \n"
      ]
    },
    {
      "cell_type": "markdown",
      "metadata": {
        "id": "XF9zvRyQM3ek",
        "colab_type": "text"
      },
      "source": [
        "<img src=\"https://s3-api.us-geo.objectstorage.softlayer.net/cf-courses-data/CognitiveClass/DL0110EN/notebook_images%20/chapter2/2.6.1Multi_sample.png\" width=\"600\" alt=\"Multiple Samples Linear Regression\" />"
      ]
    },
    {
      "cell_type": "markdown",
      "metadata": {
        "id": "0ehJ7r4fM3el",
        "colab_type": "text"
      },
      "source": [
        "<!--Empty Space for separating topics-->"
      ]
    },
    {
      "cell_type": "markdown",
      "metadata": {
        "id": "gNtur7beM3em",
        "colab_type": "text"
      },
      "source": [
        "<h3>Practice</h3>"
      ]
    },
    {
      "cell_type": "markdown",
      "metadata": {
        "id": "wMAExPD-M3em",
        "colab_type": "text"
      },
      "source": [
        "Build a model or object of type <code>linear_regression</code>. Using the <code>linear_regression</code> object will predict the following tensor: "
      ]
    },
    {
      "cell_type": "code",
      "metadata": {
        "id": "9WQ6ffUPM3en",
        "colab_type": "code",
        "colab": {
          "base_uri": "https://localhost:8080/",
          "height": 51
        },
        "outputId": "8f459ace-3b4a-4008-f631-7a921f40abe9"
      },
      "source": [
        "# Practice: Build a model to predict the follow tensor.\n",
        "\n",
        "X = torch.tensor([[11.0, 12.0, 13, 14], [11, 12, 13, 14]])\n",
        "model = linear_regression(4, 1)\n",
        "yhat = model(X)\n",
        "print(\"The result: \", yhat)"
      ],
      "execution_count": 16,
      "outputs": [
        {
          "output_type": "stream",
          "text": [
            "The result:  tensor([[2.1062],\n",
            "        [2.1062]], grad_fn=<AddmmBackward>)\n"
          ],
          "name": "stdout"
        }
      ]
    },
    {
      "cell_type": "markdown",
      "metadata": {
        "id": "n6OTzOs0M3et",
        "colab_type": "text"
      },
      "source": [
        "<hr>"
      ]
    }
  ]
}