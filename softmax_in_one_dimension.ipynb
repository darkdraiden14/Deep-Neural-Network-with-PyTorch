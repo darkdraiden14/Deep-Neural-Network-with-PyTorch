{
  "nbformat": 4,
  "nbformat_minor": 0,
  "metadata": {
    "kernelspec": {
      "display_name": "Python 3",
      "language": "python",
      "name": "python3"
    },
    "language_info": {
      "codemirror_mode": {
        "name": "ipython",
        "version": 3
      },
      "file_extension": ".py",
      "mimetype": "text/x-python",
      "name": "python",
      "nbconvert_exporter": "python",
      "pygments_lexer": "ipython3",
      "version": "3.6.5"
    },
    "colab": {
      "name": "5.4softmax_in_one_dimension_v2.ipynb",
      "provenance": [],
      "include_colab_link": true
    }
  },
  "cells": [
    {
      "cell_type": "markdown",
      "metadata": {
        "id": "view-in-github",
        "colab_type": "text"
      },
      "source": [
        "<a href=\"https://colab.research.google.com/github/darkdraiden14/Deep-Neural-Network-with-PyTorch/blob/master/softmax_in_one_dimension.ipynb\" target=\"_parent\"><img src=\"https://colab.research.google.com/assets/colab-badge.svg\" alt=\"Open In Colab\"/></a>"
      ]
    },
    {
      "cell_type": "markdown",
      "metadata": {
        "id": "7kIcCjebp-iN",
        "colab_type": "text"
      },
      "source": [
        "<h1>Softmax Classifer 1D</h1>"
      ]
    },
    {
      "cell_type": "markdown",
      "metadata": {
        "id": "w8EOdOU3p-iP",
        "colab_type": "text"
      },
      "source": [
        "<h2>Preparation</h2>"
      ]
    },
    {
      "cell_type": "markdown",
      "metadata": {
        "id": "QZthsSFXp-iQ",
        "colab_type": "text"
      },
      "source": [
        "We'll need the following libraries:"
      ]
    },
    {
      "cell_type": "code",
      "metadata": {
        "id": "jtCwSBIyp-iR",
        "colab_type": "code",
        "colab": {}
      },
      "source": [
        "# Import the libraries we need for this lab\n",
        "\n",
        "import torch.nn as nn\n",
        "import torch\n",
        "import matplotlib.pyplot as plt \n",
        "import numpy as np\n",
        "from torch.utils.data import Dataset, DataLoader"
      ],
      "execution_count": 1,
      "outputs": []
    },
    {
      "cell_type": "markdown",
      "metadata": {
        "id": "uj4azWyup-iW",
        "colab_type": "text"
      },
      "source": [
        "Use the helper function to plot labeled data points: "
      ]
    },
    {
      "cell_type": "code",
      "metadata": {
        "id": "xzOROol2p-iX",
        "colab_type": "code",
        "colab": {}
      },
      "source": [
        "# Create class for plotting\n",
        "\n",
        "def plot_data(data_set, model = None, n = 1, color = False):\n",
        "    X = data_set[:][0]\n",
        "    Y = data_set[:][1]\n",
        "    plt.plot(X[Y == 0, 0].numpy(), Y[Y == 0].numpy(), 'bo', label = 'y = 0')\n",
        "    plt.plot(X[Y == 1, 0].numpy(), 0 * Y[Y == 1].numpy(), 'ro', label = 'y = 1')\n",
        "    plt.plot(X[Y == 2, 0].numpy(), 0 * Y[Y == 2].numpy(), 'go', label = 'y = 2')\n",
        "    plt.ylim((-0.1, 3))\n",
        "    plt.legend()\n",
        "    if model != None:\n",
        "        w = list(model.parameters())[0][0].detach()\n",
        "        b = list(model.parameters())[1][0].detach()\n",
        "        y_label = ['yhat=0', 'yhat=1', 'yhat=2']\n",
        "        y_color = ['b', 'r', 'g']\n",
        "        Y = []\n",
        "        for w, b, y_l, y_c in zip(model.state_dict()['0.weight'], model.state_dict()['0.bias'], y_label, y_color):\n",
        "            Y.append((w * X + b).numpy())\n",
        "            plt.plot(X.numpy(), (w * X + b).numpy(), y_c, label = y_l)\n",
        "        if color == True:\n",
        "            x = X.numpy()\n",
        "            x = x.reshape(-1)\n",
        "            top = np.ones(x.shape)\n",
        "            y0 = Y[0].reshape(-1)\n",
        "            y1 = Y[1].reshape(-1)\n",
        "            y2 = Y[2].reshape(-1)\n",
        "            plt.fill_between(x, y0, where = y1 > y1, interpolate = True, color = 'blue')\n",
        "            plt.fill_between(x, y0, where = y1 > y2, interpolate = True, color = 'blue')\n",
        "            plt.fill_between(x, y1, where = y1 > y0, interpolate = True, color = 'red')\n",
        "            plt.fill_between(x, y1, where = ((y1 > y2) * (y1 > y0)),interpolate = True, color = 'red')\n",
        "            plt.fill_between(x, y2, where = (y2 > y0) * (y0 > 0),interpolate = True, color = 'green')\n",
        "            plt.fill_between(x, y2, where = (y2 > y1), interpolate = True, color = 'green')\n",
        "    plt.legend()\n",
        "    plt.show()"
      ],
      "execution_count": 2,
      "outputs": []
    },
    {
      "cell_type": "markdown",
      "metadata": {
        "id": "4WFFvn4Cp-ib",
        "colab_type": "text"
      },
      "source": [
        "Set the random seed:"
      ]
    },
    {
      "cell_type": "code",
      "metadata": {
        "id": "Kgqm-95cp-ic",
        "colab_type": "code",
        "colab": {
          "base_uri": "https://localhost:8080/",
          "height": 34
        },
        "outputId": "065c6735-43eb-41bf-9f49-6a705d9b67ac"
      },
      "source": [
        "#Set the random seed\n",
        "\n",
        "torch.manual_seed(0)"
      ],
      "execution_count": 3,
      "outputs": [
        {
          "output_type": "execute_result",
          "data": {
            "text/plain": [
              "<torch._C.Generator at 0x7f686a58d6f0>"
            ]
          },
          "metadata": {
            "tags": []
          },
          "execution_count": 3
        }
      ]
    },
    {
      "cell_type": "markdown",
      "metadata": {
        "id": "JQ8_PDFyp-ig",
        "colab_type": "text"
      },
      "source": [
        "<!--Empty Space for separating topics-->"
      ]
    },
    {
      "cell_type": "markdown",
      "metadata": {
        "id": "1TZuZSpVp-ih",
        "colab_type": "text"
      },
      "source": [
        "<h2 id=\"Makeup_Data\">Make Some Data</h2> "
      ]
    },
    {
      "cell_type": "markdown",
      "metadata": {
        "id": "sAWssLC9p-ii",
        "colab_type": "text"
      },
      "source": [
        "Create some linearly separable data with three classes: "
      ]
    },
    {
      "cell_type": "code",
      "metadata": {
        "id": "lv3G810mp-ii",
        "colab_type": "code",
        "colab": {}
      },
      "source": [
        "# Create the data class\n",
        "\n",
        "class Data(Dataset):\n",
        "    \n",
        "    # Constructor\n",
        "    def __init__(self):\n",
        "        self.x = torch.arange(-2, 2, 0.1).view(-1, 1)\n",
        "        self.y = torch.zeros(self.x.shape[0])\n",
        "        self.y[(self.x > -1.0)[:, 0] * (self.x < 1.0)[:, 0]] = 1\n",
        "        self.y[(self.x >= 1.0)[:, 0]] = 2\n",
        "        self.y = self.y.type(torch.LongTensor)\n",
        "        self.len = self.x.shape[0]\n",
        "        \n",
        "    # Getter\n",
        "    def __getitem__(self,index):      \n",
        "        return self.x[index], self.y[index]\n",
        "    \n",
        "    # Get Length\n",
        "    def __len__(self):\n",
        "        return self.len"
      ],
      "execution_count": 4,
      "outputs": []
    },
    {
      "cell_type": "markdown",
      "metadata": {
        "id": "z3E4-FJ1p-im",
        "colab_type": "text"
      },
      "source": [
        "Create the dataset object:"
      ]
    },
    {
      "cell_type": "code",
      "metadata": {
        "id": "fdgOR2Bap-in",
        "colab_type": "code",
        "colab": {
          "base_uri": "https://localhost:8080/",
          "height": 269
        },
        "outputId": "e5d42193-baec-4349-8ca6-0a0f95b61436"
      },
      "source": [
        "# Create the dataset object and plot the dataset object\n",
        "\n",
        "data_set = Data()\n",
        "data_set.x\n",
        "plot_data(data_set)"
      ],
      "execution_count": 5,
      "outputs": [
        {
          "output_type": "display_data",
          "data": {
            "image/png": "[encoded data removed]",
            "text/plain": [
              "<Figure size 432x288 with 1 Axes>"
            ]
          },
          "metadata": {
            "tags": [],
            "needs_background": "light"
          }
        }
      ]
    },
    {
      "cell_type": "markdown",
      "metadata": {
        "id": "83fVUleyp-it",
        "colab_type": "text"
      },
      "source": [
        "<!--Empty Space for separating topics-->"
      ]
    },
    {
      "cell_type": "markdown",
      "metadata": {
        "id": "wP6NtueFp-iu",
        "colab_type": "text"
      },
      "source": [
        "<h2 id=\"Softmax\">Build a Softmax Classifier </h2>"
      ]
    },
    {
      "cell_type": "markdown",
      "metadata": {
        "id": "0aa2HMlop-iv",
        "colab_type": "text"
      },
      "source": [
        "Build a Softmax classifier by using the Sequential module:"
      ]
    },
    {
      "cell_type": "code",
      "metadata": {
        "id": "9xPAG8BZp-iv",
        "colab_type": "code",
        "colab": {
          "base_uri": "https://localhost:8080/",
          "height": 85
        },
        "outputId": "bd5ad9b0-7d7c-494b-b3cb-4046f9e1ebc3"
      },
      "source": [
        "# Build Softmax Classifier technically you only need nn.Linear\n",
        "\n",
        "model = nn.Sequential(nn.Linear(1, 3))\n",
        "model.state_dict()"
      ],
      "execution_count": 6,
      "outputs": [
        {
          "output_type": "execute_result",
          "data": {
            "text/plain": [
              "OrderedDict([('0.weight', tensor([[-0.0075],\n",
              "                      [ 0.5364],\n",
              "                      [-0.8230]])),\n",
              "             ('0.bias', tensor([-0.7359, -0.3852,  0.2682]))])"
            ]
          },
          "metadata": {
            "tags": []
          },
          "execution_count": 6
        }
      ]
    },
    {
      "cell_type": "markdown",
      "metadata": {
        "id": "SPIxjk2Cp-iz",
        "colab_type": "text"
      },
      "source": [
        "<!--Empty Space for separating topics-->"
      ]
    },
    {
      "cell_type": "markdown",
      "metadata": {
        "id": "BTSGimCfp-i0",
        "colab_type": "text"
      },
      "source": [
        "<h2 id=\"Model\">Train the Model</h2> "
      ]
    },
    {
      "cell_type": "markdown",
      "metadata": {
        "id": "poCnTktFp-i1",
        "colab_type": "text"
      },
      "source": [
        "Create the criterion function, the optimizer and the dataloader"
      ]
    },
    {
      "cell_type": "code",
      "metadata": {
        "id": "IpwJ5pi3p-i1",
        "colab_type": "code",
        "colab": {}
      },
      "source": [
        "# Create criterion function, optimizer, and dataloader\n",
        "\n",
        "criterion = nn.CrossEntropyLoss()\n",
        "optimizer = torch.optim.SGD(model.parameters(), lr = 0.01)\n",
        "trainloader = DataLoader(dataset = data_set, batch_size = 5)"
      ],
      "execution_count": 7,
      "outputs": []
    },
    {
      "cell_type": "markdown",
      "metadata": {
        "id": "TxbEyYsLp-i5",
        "colab_type": "text"
      },
      "source": [
        "Train the model for every 50 epochs plot, the line generated for each class."
      ]
    },
    {
      "cell_type": "code",
      "metadata": {
        "id": "_8ab2uW3p-i6",
        "colab_type": "code",
        "colab": {
          "base_uri": "https://localhost:8080/",
          "height": 1000
        },
        "outputId": "d43b17b0-75b9-496b-82cb-7fb491a27635"
      },
      "source": [
        "# Train the model\n",
        "\n",
        "LOSS = []\n",
        "def train_model(epochs):\n",
        "    for epoch in range(epochs):\n",
        "        if epoch % 50 == 0:\n",
        "            pass\n",
        "            plot_data(data_set, model)\n",
        "        for x, y in trainloader:\n",
        "            optimizer.zero_grad()\n",
        "            yhat = model(x)\n",
        "            loss = criterion(yhat, y)\n",
        "            LOSS.append(loss)\n",
        "            loss.backward()\n",
        "            optimizer.step()\n",
        "train_model(300)"
      ],
      "execution_count": 8,
      "outputs": [
        {
          "output_type": "display_data",
          "data": {
            "image/png": "[encoded data removed]",
            "text/plain": [
              "<Figure size 432x288 with 1 Axes>"
            ]
          },
          "metadata": {
            "tags": [],
            "needs_background": "light"
          }
        },
        {
          "output_type": "display_data",
          "data": {
            "image/png": "[encoded data removed]",
            "text/plain": [
              "<Figure size 432x288 with 1 Axes>"
            ]
          },
          "metadata": {
            "tags": [],
            "needs_background": "light"
          }
        },
        {
          "output_type": "display_data",
          "data": {
            "image/png": "[encoded data removed]",
            "text/plain": [
              "<Figure size 432x288 with 1 Axes>"
            ]
          },
          "metadata": {
            "tags": [],
            "needs_background": "light"
          }
        },
        {
          "output_type": "display_data",
          "data": {
            "image/png": "[encoded data removed]",
            "text/plain": [
              "<Figure size 432x288 with 1 Axes>"
            ]
          },
          "metadata": {
            "tags": [],
            "needs_background": "light"
          }
        },
        {
          "output_type": "display_data",
          "data": {
            "image/png": "[encoded data removed]",
            "text/plain": [
              "<Figure size 432x288 with 1 Axes>"
            ]
          },
          "metadata": {
            "tags": [],
            "needs_background": "light"
          }
        },
        {
          "output_type": "display_data",
          "data": {
            "image/png": "[encoded data removed]",
            "text/plain": [
              "<Figure size 432x288 with 1 Axes>"
            ]
          },
          "metadata": {
            "tags": [],
            "needs_background": "light"
          }
        }
      ]
    },
    {
      "cell_type": "markdown",
      "metadata": {
        "id": "cf-jRxlep-i_",
        "colab_type": "text"
      },
      "source": [
        "<!--Empty Space for separating topics-->"
      ]
    },
    {
      "cell_type": "markdown",
      "metadata": {
        "id": "NtJG1-uhp-jA",
        "colab_type": "text"
      },
      "source": [
        "<h2 id=\"Result\">Analyze Results</h2> "
      ]
    },
    {
      "cell_type": "markdown",
      "metadata": {
        "id": "XwKw9V8vp-jB",
        "colab_type": "text"
      },
      "source": [
        "Find the predicted class on the test data: "
      ]
    },
    {
      "cell_type": "code",
      "metadata": {
        "id": "lNu9S0JFp-jC",
        "colab_type": "code",
        "colab": {
          "base_uri": "https://localhost:8080/",
          "height": 51
        },
        "outputId": "9d872eca-53ff-44a7-e974-778dedb1086d"
      },
      "source": [
        "# Make the prediction\n",
        "\n",
        "z =  model(data_set.x)\n",
        "_, yhat = z.max(1)\n",
        "print(\"The prediction:\", yhat)\n"
      ],
      "execution_count": 9,
      "outputs": [
        {
          "output_type": "stream",
          "text": [
            "The prediction: tensor([0, 0, 0, 0, 0, 0, 0, 0, 0, 0, 0, 1, 1, 1, 1, 1, 1, 1, 1, 1, 1, 1, 1, 1,\n",
            "        1, 1, 1, 1, 1, 2, 2, 2, 2, 2, 2, 2, 2, 2, 2, 2])\n"
          ],
          "name": "stdout"
        }
      ]
    },
    {
      "cell_type": "markdown",
      "metadata": {
        "id": "St69b9Tap-jF",
        "colab_type": "text"
      },
      "source": [
        "Calculate the accuracy on the test data:"
      ]
    },
    {
      "cell_type": "code",
      "metadata": {
        "id": "rnYpARlXp-jG",
        "colab_type": "code",
        "colab": {
          "base_uri": "https://localhost:8080/",
          "height": 34
        },
        "outputId": "7fb0dc96-5ae1-4533-8f6a-071d196d959f"
      },
      "source": [
        "# Print the accuracy\n",
        "\n",
        "correct = (data_set.y == yhat).sum().item()\n",
        "accuracy = correct / len(data_set)\n",
        "print(\"The accuracy: \", accuracy)"
      ],
      "execution_count": 10,
      "outputs": [
        {
          "output_type": "stream",
          "text": [
            "The accuracy:  0.975\n"
          ],
          "name": "stdout"
        }
      ]
    },
    {
      "cell_type": "markdown",
      "metadata": {
        "id": "_BJ56VMap-jK",
        "colab_type": "text"
      },
      "source": [
        "You can also use the softmax function to convert the output to a probability,first, we create a Softmax object:"
      ]
    },
    {
      "cell_type": "code",
      "metadata": {
        "id": "5MZGgdvjp-jL",
        "colab_type": "code",
        "colab": {}
      },
      "source": [
        "Softmax_fn=nn.Softmax(dim=-1)"
      ],
      "execution_count": 11,
      "outputs": []
    },
    {
      "cell_type": "markdown",
      "metadata": {
        "id": "O_N_mqgrp-jP",
        "colab_type": "text"
      },
      "source": [
        "The result is a tensor <code> Probability </code>, where each row corresponds to a different sample, and each column corresponds to that sample  belonging to a particular class"
      ]
    },
    {
      "cell_type": "code",
      "metadata": {
        "id": "HGP14Unqp-jQ",
        "colab_type": "code",
        "colab": {}
      },
      "source": [
        "Probability =Softmax_fn(z)"
      ],
      "execution_count": 12,
      "outputs": []
    },
    {
      "cell_type": "markdown",
      "metadata": {
        "id": "V5cjitXOp-jU",
        "colab_type": "text"
      },
      "source": [
        "we can obtain the probability of the first sample belonging to the first, second and third class respectively as follows:"
      ]
    },
    {
      "cell_type": "code",
      "metadata": {
        "id": "JGlWqsyOp-jV",
        "colab_type": "code",
        "colab": {
          "base_uri": "https://localhost:8080/",
          "height": 68
        },
        "outputId": "b0b4642c-5582-4933-b7d5-141dbe0fccb8"
      },
      "source": [
        "for i in range(3):\n",
        "    print(\"probability of class {} isg given by  {}\".format(i, Probability[0,i]) )"
      ],
      "execution_count": 13,
      "outputs": [
        {
          "output_type": "stream",
          "text": [
            "probability of class 0 isg given by  0.9267547726631165\n",
            "probability of class 1 isg given by  0.07310982048511505\n",
            "probability of class 2 isg given by  0.00013548212882597\n"
          ],
          "name": "stdout"
        }
      ]
    },
    {
      "cell_type": "markdown",
      "metadata": {
        "id": "bjcvJanOp-jY",
        "colab_type": "text"
      },
      "source": [
        "<!--Empty Space for separating topics-->"
      ]
    }
  ]
}