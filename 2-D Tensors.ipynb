{
  "nbformat": 4,
  "nbformat_minor": 0,
  "metadata": {
    "kernelspec": {
      "display_name": "Python 3",
      "language": "python",
      "name": "python3"
    },
    "language_info": {
      "codemirror_mode": {
        "name": "ipython",
        "version": 3
      },
      "file_extension": ".py",
      "mimetype": "text/x-python",
      "name": "python",
      "nbconvert_exporter": "python",
      "pygments_lexer": "ipython3",
      "version": "3.6.8"
    },
    "colab": {
      "name": "1.1_2 Two-Dimensional Tensors_v2.ipynb",
      "provenance": [],
      "include_colab_link": true
    }
  },
  "cells": [
    {
      "cell_type": "markdown",
      "metadata": {
        "id": "view-in-github",
        "colab_type": "text"
      },
      "source": [
        "<a href=\"https://colab.research.google.com/github/darkdraiden14/Deep-Neural-Network-with-PyTorch/blob/master/2-D%20Tensors.ipynb\" target=\"_parent\"><img src=\"https://colab.research.google.com/assets/colab-badge.svg\" alt=\"Open In Colab\"/></a>"
      ]
    },
    {
      "cell_type": "markdown",
      "metadata": {
        "id": "uA1-2lcJkK8Z",
        "colab_type": "text"
      },
      "source": [
        "<h1>Two-Dimensional Tensors</h1>"
      ]
    },
    {
      "cell_type": "markdown",
      "metadata": {
        "id": "GdyO4NmqkK8d",
        "colab_type": "text"
      },
      "source": [
        "<h2>Preparation</h2>"
      ]
    },
    {
      "cell_type": "markdown",
      "metadata": {
        "id": "TMfzvV-3kK8e",
        "colab_type": "text"
      },
      "source": [
        "The following are the libraries we are going to use for this lab."
      ]
    },
    {
      "cell_type": "code",
      "metadata": {
        "id": "dv1FqHBckK8g",
        "colab_type": "code",
        "colab": {}
      },
      "source": [
        "# These are the libraries will be used for this lab.\n",
        "\n",
        "import numpy as np \n",
        "import matplotlib.pyplot as plt\n",
        "import torch\n",
        "import pandas as pd"
      ],
      "execution_count": 0,
      "outputs": []
    },
    {
      "cell_type": "markdown",
      "metadata": {
        "id": "tJOxmQRMkK8l",
        "colab_type": "text"
      },
      "source": [
        "<!--Empty Space for separating topics-->"
      ]
    },
    {
      "cell_type": "markdown",
      "metadata": {
        "id": "zASfHhoGkK8m",
        "colab_type": "text"
      },
      "source": [
        "<h2 id=\"Types_Shape\">Types and Shape</h2>"
      ]
    },
    {
      "cell_type": "markdown",
      "metadata": {
        "id": "7Pc9VxuBkK8n",
        "colab_type": "text"
      },
      "source": [
        "The methods and types for 2D tensors is similar to the methods and types for 1D tensors which has been introduced in <i>Previous Lab</i>."
      ]
    },
    {
      "cell_type": "markdown",
      "metadata": {
        "id": "G6rdaGVBkK8n",
        "colab_type": "text"
      },
      "source": [
        "Let us see how to convert a 2D list to a 2D tensor. First, let us create a 3X3 2D tensor. Then let us try to use <code>torch.tensor()</code> which we used for converting a 1D list to 1D tensor. Is it going to work?"
      ]
    },
    {
      "cell_type": "code",
      "metadata": {
        "id": "cm4TO_wZkK8o",
        "colab_type": "code",
        "colab": {
          "base_uri": "https://localhost:8080/",
          "height": 68
        },
        "outputId": "3cd25592-4cd6-4997-8848-0ae609b6b0da"
      },
      "source": [
        "# Convert 2D List to 2D Tensor\n",
        "\n",
        "twoD_list = [[11, 12, 13], [21, 22, 23], [31, 32, 33]]\n",
        "twoD_tensor = torch.tensor(twoD_list)\n",
        "print(\"The New 2D Tensor: \", twoD_tensor)"
      ],
      "execution_count": 2,
      "outputs": [
        {
          "output_type": "stream",
          "text": [
            "The New 2D Tensor:  tensor([[11, 12, 13],\n",
            "        [21, 22, 23],\n",
            "        [31, 32, 33]])\n"
          ],
          "name": "stdout"
        }
      ]
    },
    {
      "cell_type": "markdown",
      "metadata": {
        "id": "fo2czy6ZkK8q",
        "colab_type": "text"
      },
      "source": [
        "Bravo! The method <code>torch.tensor()</code> works perfectly.Now, let us try other functions we studied in the <i>Previous Lab</i>."
      ]
    },
    {
      "cell_type": "markdown",
      "metadata": {
        "id": "41VdUsAckK8r",
        "colab_type": "text"
      },
      "source": [
        "<!--Empty Space for separating topics-->"
      ]
    },
    {
      "cell_type": "markdown",
      "metadata": {
        "id": "AOZeu_AykK8s",
        "colab_type": "text"
      },
      "source": [
        "Let us try <code><i>tensor_obj</i>.ndimension()</code> (<code>tensor_obj</code>: This can be any tensor object), <code><i>tensor_obj</i>.shape</code>, and <code><i>tensor_obj</i>.size()</code>"
      ]
    },
    {
      "cell_type": "code",
      "metadata": {
        "id": "qOp7xxB8kK8s",
        "colab_type": "code",
        "colab": {
          "base_uri": "https://localhost:8080/",
          "height": 85
        },
        "outputId": "71895cb9-d78c-4f22-f408-c522355158dc"
      },
      "source": [
        "# Try tensor_obj.ndimension(), tensor_obj.shape, tensor_obj.size()\n",
        "\n",
        "print(\"The dimension of twoD_tensor: \", twoD_tensor.ndimension())\n",
        "print(\"The shape of twoD_tensor: \", twoD_tensor.shape)\n",
        "print(\"The shape of twoD_tensor: \", twoD_tensor.size())\n",
        "print(\"The number of elements in twoD_tensor: \", twoD_tensor.numel())"
      ],
      "execution_count": 3,
      "outputs": [
        {
          "output_type": "stream",
          "text": [
            "The dimension of twoD_tensor:  2\n",
            "The shape of twoD_tensor:  torch.Size([3, 3])\n",
            "The shape of twoD_tensor:  torch.Size([3, 3])\n",
            "The number of elements in twoD_tensor:  9\n"
          ],
          "name": "stdout"
        }
      ]
    },
    {
      "cell_type": "markdown",
      "metadata": {
        "id": "tkcn9Ci8kK8v",
        "colab_type": "text"
      },
      "source": [
        "Because it is a 2D 3X3 tensor,  the outputs are correct."
      ]
    },
    {
      "cell_type": "markdown",
      "metadata": {
        "id": "ObQO6_THkK8w",
        "colab_type": "text"
      },
      "source": [
        "<!--Empty Space for separating topics-->"
      ]
    },
    {
      "cell_type": "markdown",
      "metadata": {
        "id": "Yo6hIIDEkK8w",
        "colab_type": "text"
      },
      "source": [
        "Now, let us try converting the tensor to a numpy array and convert the numpy array back to a tensor."
      ]
    },
    {
      "cell_type": "code",
      "metadata": {
        "id": "gPsb61KtkK8x",
        "colab_type": "code",
        "colab": {
          "base_uri": "https://localhost:8080/",
          "height": 204
        },
        "outputId": "9d586556-bf59-4ff9-a567-138559f1b203"
      },
      "source": [
        "# Convert tensor to numpy array; Convert numpy array to tensor\n",
        "\n",
        "twoD_numpy = twoD_tensor.numpy()\n",
        "print(\"Tensor -> Numpy Array:\")\n",
        "print(\"The numpy array after converting: \", twoD_numpy)\n",
        "print(\"Type after converting: \", twoD_numpy.dtype)\n",
        "\n",
        "print(\"================================================\")\n",
        "\n",
        "new_twoD_tensor = torch.from_numpy(twoD_numpy)\n",
        "print(\"Numpy Array -> Tensor:\")\n",
        "print(\"The tensor after converting:\", new_twoD_tensor)\n",
        "print(\"Type after converting: \", new_twoD_tensor.dtype)"
      ],
      "execution_count": 4,
      "outputs": [
        {
          "output_type": "stream",
          "text": [
            "Tensor -> Numpy Array:\n",
            "The numpy array after converting:  [[11 12 13]\n",
            " [21 22 23]\n",
            " [31 32 33]]\n",
            "Type after converting:  int64\n",
            "================================================\n",
            "Numpy Array -> Tensor:\n",
            "The tensor after converting: tensor([[11, 12, 13],\n",
            "        [21, 22, 23],\n",
            "        [31, 32, 33]])\n",
            "Type after converting:  torch.int64\n"
          ],
          "name": "stdout"
        }
      ]
    },
    {
      "cell_type": "markdown",
      "metadata": {
        "id": "Uc76Vj3YkK80",
        "colab_type": "text"
      },
      "source": [
        "The result shows the tensor has successfully been converted to a numpy array and then converted back to a tensor."
      ]
    },
    {
      "cell_type": "markdown",
      "metadata": {
        "id": "h7U_P0sskK80",
        "colab_type": "text"
      },
      "source": [
        "<!--Empty Space for separating topics-->"
      ]
    },
    {
      "cell_type": "markdown",
      "metadata": {
        "id": "yixs4DRykK81",
        "colab_type": "text"
      },
      "source": [
        "Now let us try to convert a Pandas Dataframe to a tensor. The process is the  Same as the 1D conversion, we can obtain the numpy array via the attribute <code>values</code>. Then, we can use <code>torch.from_numpy()</code> to convert the value of the Pandas Series to a tensor."
      ]
    },
    {
      "cell_type": "code",
      "metadata": {
        "id": "pHvEyxv3kK82",
        "colab_type": "code",
        "colab": {
          "base_uri": "https://localhost:8080/",
          "height": 170
        },
        "outputId": "c94b7e21-232a-47d8-d343-766bb04b6d14"
      },
      "source": [
        "# Try to convert the Panda Dataframe to tensor\n",
        "\n",
        "df = pd.DataFrame({'a':[11,21,31],'b':[12,22,312]})\n",
        "\n",
        "print(\"Pandas Dataframe to numpy: \", df.values)\n",
        "print(\"Type BEFORE converting: \", df.values.dtype)\n",
        "\n",
        "print(\"================================================\")\n",
        "\n",
        "new_tensor = torch.from_numpy(df.values)\n",
        "print(\"Tensor AFTER converting: \", new_tensor)\n",
        "print(\"Type AFTER converting: \", new_tensor.dtype)"
      ],
      "execution_count": 5,
      "outputs": [
        {
          "output_type": "stream",
          "text": [
            "Pandas Dataframe to numpy:  [[ 11  12]\n",
            " [ 21  22]\n",
            " [ 31 312]]\n",
            "Type BEFORE converting:  int64\n",
            "================================================\n",
            "Tensor AFTER converting:  tensor([[ 11,  12],\n",
            "        [ 21,  22],\n",
            "        [ 31, 312]])\n",
            "Type AFTER converting:  torch.int64\n"
          ],
          "name": "stdout"
        }
      ]
    },
    {
      "cell_type": "markdown",
      "metadata": {
        "id": "YuPAafnEkK84",
        "colab_type": "text"
      },
      "source": [
        "<!--Empty Space for separating topics-->"
      ]
    },
    {
      "cell_type": "markdown",
      "metadata": {
        "id": "70R7u70fkK84",
        "colab_type": "text"
      },
      "source": [
        "<!--Empty Space for separating topics-->"
      ]
    },
    {
      "cell_type": "markdown",
      "metadata": {
        "id": "EIh0MsGJkK89",
        "colab_type": "text"
      },
      "source": [
        "<h2 id=\"Index_Slice\">Indexing and Slicing</h2>"
      ]
    },
    {
      "cell_type": "markdown",
      "metadata": {
        "id": "aTQL45-WkK8_",
        "colab_type": "text"
      },
      "source": [
        "You can use rectangular brackets to access the different elements of the tensor. The correspondence between the rectangular brackets and the list and the rectangular representation is shown in the following figure for a 3X3 tensor:  "
      ]
    },
    {
      "cell_type": "markdown",
      "metadata": {
        "id": "_MiX9bY3kK9A",
        "colab_type": "text"
      },
      "source": [
        "<img src=\"https://s3-api.us-geo.objectstorage.softlayer.net/cf-courses-data/CognitiveClass/DL0110EN/notebook_images%20/chapter%201/1.2index1.png\" width=500 alt=\"Matrix Structure Introduce\">"
      ]
    },
    {
      "cell_type": "markdown",
      "metadata": {
        "id": "vatV9QkLkK9B",
        "colab_type": "text"
      },
      "source": [
        "You can access the 2nd-row 3rd-column as shown in the following figure:"
      ]
    },
    {
      "cell_type": "markdown",
      "metadata": {
        "id": "KU9ekqyLkK9C",
        "colab_type": "text"
      },
      "source": [
        "<img src=\"https://s3-api.us-geo.objectstorage.softlayer.net/cf-courses-data/CognitiveClass/DL0110EN/notebook_images%20/chapter%201/1.2index.png\" width=\"500\" alt=\"Example of Matrix Index\">"
      ]
    },
    {
      "cell_type": "markdown",
      "metadata": {
        "id": "_rea4Ri9kK9C",
        "colab_type": "text"
      },
      "source": [
        "You simply use the square brackets and the indices corresponding to the element that you want."
      ]
    },
    {
      "cell_type": "markdown",
      "metadata": {
        "id": "WXvymueekK9D",
        "colab_type": "text"
      },
      "source": [
        "Now, let us try to access the value on position 2nd-row 3rd-column. Remember that the index is always 1 less than how we count rows and columns. There are two ways to access the certain value of a tensor. The example in code will be the same as the example picture above."
      ]
    },
    {
      "cell_type": "code",
      "metadata": {
        "id": "TwyboIs6kK9D",
        "colab_type": "code",
        "colab": {
          "base_uri": "https://localhost:8080/",
          "height": 51
        },
        "outputId": "c3b20f2e-2bb2-4870-e51f-3199b96ce3cf"
      },
      "source": [
        "# Use tensor_obj[row, column] and tensor_obj[row][column] to access certain position\n",
        "\n",
        "tensor_example = torch.tensor([[11, 12, 13], [21, 22, 23], [31, 32, 33]])\n",
        "print(\"What is the value on 2nd-row 3rd-column? \", tensor_example[1, 2])\n",
        "print(\"What is the value on 2nd-row 3rd-column? \", tensor_example[1][2])"
      ],
      "execution_count": 6,
      "outputs": [
        {
          "output_type": "stream",
          "text": [
            "What is the value on 2nd-row 3rd-column?  tensor(23)\n",
            "What is the value on 2nd-row 3rd-column?  tensor(23)\n"
          ],
          "name": "stdout"
        }
      ]
    },
    {
      "cell_type": "markdown",
      "metadata": {
        "id": "2sKcdG5YkK9H",
        "colab_type": "text"
      },
      "source": [
        "As we can see, both methods return the true value (the same value as the picture above). Therefore, both of the methods work."
      ]
    },
    {
      "cell_type": "markdown",
      "metadata": {
        "id": "wXpplOSCkK9H",
        "colab_type": "text"
      },
      "source": [
        "<!--Empty Space for separating topics-->"
      ]
    },
    {
      "cell_type": "markdown",
      "metadata": {
        "id": "eNIXcPm6kK9I",
        "colab_type": "text"
      },
      "source": [
        "Consider the elements shown in the following figure: "
      ]
    },
    {
      "cell_type": "markdown",
      "metadata": {
        "id": "C26Qab-EkK9I",
        "colab_type": "text"
      },
      "source": [
        "<img src=\"https://s3-api.us-geo.objectstorage.softlayer.net/cf-courses-data/CognitiveClass/DL0110EN/notebook_images%20/chapter%201/1.2_index2.png\" width=\"500\" alt=\"Example of Matrix Index\" />"
      ]
    },
    {
      "cell_type": "markdown",
      "metadata": {
        "id": "9UpxiTDMkK9J",
        "colab_type": "text"
      },
      "source": [
        "Use the method above, we can access the 1st-row 1st-column by <code>tensor_example[0][0]</code>"
      ]
    },
    {
      "cell_type": "code",
      "metadata": {
        "id": "OUKGpVJhkK9J",
        "colab_type": "code",
        "colab": {
          "base_uri": "https://localhost:8080/",
          "height": 34
        },
        "outputId": "e38d188e-b810-42a4-89b2-95ecf1ebf261"
      },
      "source": [
        "tensor_example[0][0]"
      ],
      "execution_count": 7,
      "outputs": [
        {
          "output_type": "execute_result",
          "data": {
            "text/plain": [
              "tensor(11)"
            ]
          },
          "metadata": {
            "tags": []
          },
          "execution_count": 7
        }
      ]
    },
    {
      "cell_type": "markdown",
      "metadata": {
        "id": "5vC8EmC7kK9M",
        "colab_type": "text"
      },
      "source": [
        "But what if we want to get the value on both 1st-row 1st-column and 1st-row 2nd-column?"
      ]
    },
    {
      "cell_type": "markdown",
      "metadata": {
        "id": "R-gdYqwEkK9N",
        "colab_type": "text"
      },
      "source": [
        "You can also use slicing in a tensor. Consider the following figure. You want to obtain the 1st two columns in the 1st row:  "
      ]
    },
    {
      "cell_type": "markdown",
      "metadata": {
        "id": "It7bhxs0kK9N",
        "colab_type": "text"
      },
      "source": [
        "<img src=\"https://s3-api.us-geo.objectstorage.softlayer.net/cf-courses-data/CognitiveClass/DL0110EN/notebook_images%20/chapter%201/1.2sliceing.png\" width=\"500\" alt=\"Example of Matrix Index and Slicing\" />"
      ]
    },
    {
      "cell_type": "markdown",
      "metadata": {
        "id": "unplND8okK9O",
        "colab_type": "text"
      },
      "source": [
        "## Let us see how  we use slicing with 2D tensors to get the values in the above picture."
      ]
    },
    {
      "cell_type": "code",
      "metadata": {
        "id": "Zo6ZOwKvkK9P",
        "colab_type": "code",
        "colab": {
          "base_uri": "https://localhost:8080/",
          "height": 51
        },
        "outputId": "dd1341cd-38b9-49e0-af7b-6cee08da2d75"
      },
      "source": [
        "# Use tensor_obj[begin_row_number: end_row_number, begin_column_number: end_column number] \n",
        "# and tensor_obj[row][begin_column_number: end_column number] to do the slicing\n",
        "\n",
        "tensor_example = torch.tensor([[11, 12, 13], [21, 22, 23], [31, 32, 33]])\n",
        "print(\"What is the value on 1st-row first two columns? \", tensor_example[0, 0:2])\n",
        "print(\"What is the value on 1st-row first two columns? \", tensor_example[0][0:2])"
      ],
      "execution_count": 8,
      "outputs": [
        {
          "output_type": "stream",
          "text": [
            "What is the value on 1st-row first two columns?  tensor([11, 12])\n",
            "What is the value on 1st-row first two columns?  tensor([11, 12])\n"
          ],
          "name": "stdout"
        }
      ]
    },
    {
      "cell_type": "markdown",
      "metadata": {
        "id": "Bfrl0tyikK9T",
        "colab_type": "text"
      },
      "source": [
        "We get the result as <code>tensor([11, 12])</code> successfully."
      ]
    },
    {
      "cell_type": "markdown",
      "metadata": {
        "id": "VSNA2qsKkK9T",
        "colab_type": "text"
      },
      "source": [
        "<!--Empty Space for separating topics-->"
      ]
    },
    {
      "cell_type": "markdown",
      "metadata": {
        "id": "DgMo6C-2kK9U",
        "colab_type": "text"
      },
      "source": [
        "But we <b>can't</b> combine using slicing on row and pick one column by using the code <code>tensor_obj[begin_row_number: end_row_number][begin_column_number: end_column number]</code>. The reason is that the slicing will be applied on the tensor first. The result type will be a two dimension again. The second bracket will no longer represent the index of the column it will be the index of the row at that time. Let us see an example. "
      ]
    },
    {
      "cell_type": "code",
      "metadata": {
        "id": "njvWuDSskK9U",
        "colab_type": "code",
        "colab": {
          "base_uri": "https://localhost:8080/",
          "height": 221
        },
        "outputId": "8f1518b8-7a1b-4227-8c8f-17cbdec3a0ae"
      },
      "source": [
        "# Give an idea on tensor_obj[number: number][number]\n",
        "\n",
        "tensor_example = torch.tensor([[11, 12, 13], [21, 22, 23], [31, 32, 33]])\n",
        "sliced_tensor_example = tensor_example[1:3]\n",
        "print(\"1. Slicing step on tensor_example: \")\n",
        "print(\"Result after tensor_example[1:3]: \", sliced_tensor_example)\n",
        "print(\"Dimension after tensor_example[1:3]: \", sliced_tensor_example.ndimension())\n",
        "print(\"================================================\")\n",
        "print(\"2. Pick an index on sliced_tensor_example: \")\n",
        "print(\"Result after sliced_tensor_example[1]: \", sliced_tensor_example[1])\n",
        "print(\"Dimension after sliced_tensor_example[1]: \", sliced_tensor_example[1].ndimension())\n",
        "print(\"================================================\")\n",
        "print(\"3. Combine these step together:\")\n",
        "print(\"Result: \", tensor_example[1:3][1])\n",
        "print(\"Dimension: \", tensor_example[1:3][1].ndimension())"
      ],
      "execution_count": 9,
      "outputs": [
        {
          "output_type": "stream",
          "text": [
            "1. Slicing step on tensor_example: \n",
            "Result after tensor_example[1:3]:  tensor([[21, 22, 23],\n",
            "        [31, 32, 33]])\n",
            "Dimension after tensor_example[1:3]:  2\n",
            "================================================\n",
            "2. Pick an index on sliced_tensor_example: \n",
            "Result after sliced_tensor_example[1]:  tensor([31, 32, 33])\n",
            "Dimension after sliced_tensor_example[1]:  1\n",
            "================================================\n",
            "3. Combine these step together:\n",
            "Result:  tensor([31, 32, 33])\n",
            "Dimension:  1\n"
          ],
          "name": "stdout"
        }
      ]
    },
    {
      "cell_type": "markdown",
      "metadata": {
        "id": "IgR9BZzKkK9W",
        "colab_type": "text"
      },
      "source": [
        "See the results and dimensions in 2 and 3 are the same. Both of them contains the 3rd row in the <code>tensor_example</code>, but not the last two values in the 3rd column."
      ]
    },
    {
      "cell_type": "markdown",
      "metadata": {
        "id": "JzptZWkukK9W",
        "colab_type": "text"
      },
      "source": [
        "<!--Empty Space for separating topics-->"
      ]
    },
    {
      "cell_type": "markdown",
      "metadata": {
        "id": "eVgIWLj_kK9X",
        "colab_type": "text"
      },
      "source": [
        "So how can we get the elements in the 3rd column with the last two rows? As the below picture."
      ]
    },
    {
      "cell_type": "markdown",
      "metadata": {
        "id": "t_v6erHKkK9X",
        "colab_type": "text"
      },
      "source": [
        "<img src=\"https://s3-api.us-geo.objectstorage.softlayer.net/cf-courses-data/CognitiveClass/DL0110EN/notebook_images%20/chapter%201/1.2slicing2.png\" width=\"500\" alt=\"Example of Matrix Index and Slicing\" />"
      ]
    },
    {
      "cell_type": "markdown",
      "metadata": {
        "id": "8E2jp1glkK9Y",
        "colab_type": "text"
      },
      "source": [
        "Let's see the code below."
      ]
    },
    {
      "cell_type": "code",
      "metadata": {
        "id": "FsiacqAjkK9Y",
        "colab_type": "code",
        "colab": {
          "base_uri": "https://localhost:8080/",
          "height": 34
        },
        "outputId": "bfff3a41-e9f1-46e4-ad81-f06157617532"
      },
      "source": [
        "# Use tensor_obj[begin_row_number: end_row_number, begin_column_number: end_column number] \n",
        "\n",
        "tensor_example = torch.tensor([[11, 12, 13], [21, 22, 23], [31, 32, 33]])\n",
        "print(\"What is the value on 3rd-column last two rows? \", tensor_example[1:3, 2])"
      ],
      "execution_count": 10,
      "outputs": [
        {
          "output_type": "stream",
          "text": [
            "What is the value on 3rd-column last two rows?  tensor([23, 33])\n"
          ],
          "name": "stdout"
        }
      ]
    },
    {
      "cell_type": "markdown",
      "metadata": {
        "id": "hvdCoA8kkK9a",
        "colab_type": "text"
      },
      "source": [
        "Fortunately, the code <code>tensor_obj[begin_row_number: end_row_number, begin_column_number: end_column number]</code> is still works."
      ]
    },
    {
      "cell_type": "markdown",
      "metadata": {
        "id": "HyVSyip5kK9b",
        "colab_type": "text"
      },
      "source": [
        "<!--Empty Space for separating topics-->"
      ]
    },
    {
      "cell_type": "markdown",
      "metadata": {
        "id": "rDqLl-4JkK9t",
        "colab_type": "text"
      },
      "source": [
        "<h3>Element-wise Product/Hadamard Product</h3>"
      ]
    },
    {
      "cell_type": "markdown",
      "metadata": {
        "id": "iJ1hSXhukK9u",
        "colab_type": "text"
      },
      "source": [
        "Multiplication of two tensors corresponds to an element-wise product or Hadamard product.  Consider matrix the <b>X</b> and <b>Y</b> with the same size. The Hadamard product corresponds to multiplying each of the elements at the same position, that is, multiplying elements with the same color together. The result is a new matrix that is the same size as matrix <b>X</b> and <b>Y</b> as shown in the following figure:"
      ]
    },
    {
      "cell_type": "markdown",
      "metadata": {
        "id": "d2sejNenkK9v",
        "colab_type": "text"
      },
      "source": [
        " <a><img src=\"https://s3-api.us-geo.objectstorage.softlayer.net/cf-courses-data/CognitiveClass/DL0110EN/notebook_images%20/chapter%201/1.2tensor_pruduct.png\" width=500 align=\"center\"> </a>\n"
      ]
    },
    {
      "cell_type": "markdown",
      "metadata": {
        "id": "P_f1040WkK9w",
        "colab_type": "text"
      },
      "source": [
        "The code below calculates the element-wise product of the tensor <strong>X</strong> and <strong>Y</strong>:"
      ]
    },
    {
      "cell_type": "code",
      "metadata": {
        "id": "dyUYtuZgkK9w",
        "colab_type": "code",
        "colab": {
          "base_uri": "https://localhost:8080/",
          "height": 51
        },
        "outputId": "f2e995e1-c347-4f89-c804-01c43f34f841"
      },
      "source": [
        "# Calculate [[1, 0], [0, 1]] * [[2, 1], [1, 2]]\n",
        "\n",
        "X = torch.tensor([[1, 0], [0, 1]])\n",
        "Y = torch.tensor([[2, 1], [1, 2]]) \n",
        "X_times_Y = X * Y\n",
        "print(\"The result of X * Y: \", X_times_Y)"
      ],
      "execution_count": 11,
      "outputs": [
        {
          "output_type": "stream",
          "text": [
            "The result of X * Y:  tensor([[2, 0],\n",
            "        [0, 2]])\n"
          ],
          "name": "stdout"
        }
      ]
    },
    {
      "cell_type": "markdown",
      "metadata": {
        "id": "L1cgm7_5kK9z",
        "colab_type": "text"
      },
      "source": [
        "This is a simple calculation. The result from the code matches the result shown in the picture."
      ]
    },
    {
      "cell_type": "markdown",
      "metadata": {
        "id": "lH1TSV7AkK9z",
        "colab_type": "text"
      },
      "source": [
        "<!--Empty Space for separating topics-->"
      ]
    },
    {
      "cell_type": "markdown",
      "metadata": {
        "id": "GBGWZNu_kK90",
        "colab_type": "text"
      },
      "source": [
        "<h3>Matrix Multiplication </h3>"
      ]
    },
    {
      "cell_type": "markdown",
      "metadata": {
        "id": "zHOyzbQxkK90",
        "colab_type": "text"
      },
      "source": [
        "We can also apply matrix multiplication to two tensors, if you have learned linear algebra, you should know that in the multiplication of two matrices order matters. This means if <i>X * Y</i> is valid, it does not mean <i>Y * X</i> is valid. The number of columns of the matrix on the left side of the multiplication sign must equal to the number of rows of the matrix on the right side."
      ]
    },
    {
      "cell_type": "markdown",
      "metadata": {
        "id": "4tnRx2YUkK91",
        "colab_type": "text"
      },
      "source": [
        "First, let us create a tensor <code>X</code> with size 2X3. Then, let us create another tensor <code>Y</code> with size 3X2. Since the number of columns of <code>X</code> is equal to the number of rows of <code>Y</code>. We are able to perform the multiplication."
      ]
    },
    {
      "cell_type": "markdown",
      "metadata": {
        "id": "mC187r0BkK91",
        "colab_type": "text"
      },
      "source": [
        "We use <code>torch.mm()</code> for calculating the multiplication between tensors with different sizes."
      ]
    },
    {
      "cell_type": "code",
      "metadata": {
        "id": "_YdGAkaykK92",
        "colab_type": "code",
        "colab": {
          "base_uri": "https://localhost:8080/",
          "height": 51
        },
        "outputId": "aaa133f9-7b93-4e53-d9e7-dd4029b15db0"
      },
      "source": [
        "# Calculate [[0, 1, 1], [1, 0, 1]] * [[1, 1], [1, 1], [-1, 1]]\n",
        "\n",
        "A = torch.tensor([[0, 1, 1], [1, 0, 1]])\n",
        "B = torch.tensor([[1, 1], [1, 1], [-1, 1]])\n",
        "A_times_B = torch.mm(A,B)\n",
        "print(\"The result of A * B: \", A_times_B)"
      ],
      "execution_count": 12,
      "outputs": [
        {
          "output_type": "stream",
          "text": [
            "The result of A * B:  tensor([[0, 2],\n",
            "        [0, 2]])\n"
          ],
          "name": "stdout"
        }
      ]
    },
    {
      "cell_type": "markdown",
      "metadata": {
        "id": "unGo_fALkK95",
        "colab_type": "text"
      },
      "source": [
        "<!--Empty Space for separating topics-->"
      ]
    }
  ]
}