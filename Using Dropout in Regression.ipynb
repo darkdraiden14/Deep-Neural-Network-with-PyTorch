{
  "nbformat": 4,
  "nbformat_minor": 0,
  "metadata": {
    "kernelspec": {
      "display_name": "Python 3",
      "language": "python",
      "name": "python3"
    },
    "language_info": {
      "codemirror_mode": {
        "name": "ipython",
        "version": 3
      },
      "file_extension": ".py",
      "mimetype": "text/x-python",
      "name": "python",
      "nbconvert_exporter": "python",
      "pygments_lexer": "ipython3",
      "version": "3.6.5"
    },
    "colab": {
      "name": "8.2.2dropoutRegression_v2.ipynb",
      "provenance": [],
      "include_colab_link": true
    }
  },
  "cells": [
    {
      "cell_type": "markdown",
      "metadata": {
        "id": "view-in-github",
        "colab_type": "text"
      },
      "source": [
        "<a href=\"https://colab.research.google.com/github/darkdraiden14/Deep-Neural-Network-with-PyTorch/blob/master/Using%20Dropout%20in%20Regression.ipynb\" target=\"_parent\"><img src=\"https://colab.research.google.com/assets/colab-badge.svg\" alt=\"Open In Colab\"/></a>"
      ]
    },
    {
      "cell_type": "markdown",
      "metadata": {
        "id": "jijyxN4ul4b2",
        "colab_type": "text"
      },
      "source": [
        "<h1>Using Dropout in Regression</h1>"
      ]
    },
    {
      "cell_type": "markdown",
      "metadata": {
        "id": "0oRnLTYIl4b4",
        "colab_type": "text"
      },
      "source": [
        "<h2>Table of Contents</h2>\n",
        "<p>In this lab, you will see how adding dropout to your model will decrease overfitting.</p>\n",
        "\n",
        "<ul>\n",
        "    <li><a href=\"#Makeup_Data\">Make Some Data</a></li>\n",
        "    <li><a href=\"#Model_Cost\">Create the Model and Cost Function the PyTorch way</a></li>\n",
        "    <li><a href=\"#BGD\">Batch Gradient Descent</a></li>\n",
        "</ul>\n",
        "<p>Estimated Time Needed: <strong>20 min</strong></p>\n",
        "\n",
        "<hr>"
      ]
    },
    {
      "cell_type": "markdown",
      "metadata": {
        "id": "RB0wfVkCl4b5",
        "colab_type": "text"
      },
      "source": [
        "<h2>Preparation</h2>"
      ]
    },
    {
      "cell_type": "markdown",
      "metadata": {
        "id": "RrNMWqGel4b5",
        "colab_type": "text"
      },
      "source": [
        "We'll need the following libraries"
      ]
    },
    {
      "cell_type": "code",
      "metadata": {
        "id": "_18MW8zml4b6",
        "colab_type": "code",
        "colab": {
          "base_uri": "https://localhost:8080/",
          "height": 34
        },
        "outputId": "fc912f58-b370-46ae-8fe3-144993a8328d"
      },
      "source": [
        "# Import the libraries we need for the lab\n",
        "\n",
        "import torch\n",
        "import matplotlib.pyplot as plt\n",
        "import torch.nn as nn\n",
        "import torch.nn.functional as F\n",
        "import numpy as np\n",
        "from torch.utils.data import Dataset, DataLoader\n",
        "\n",
        "torch.manual_seed(0) "
      ],
      "execution_count": 1,
      "outputs": [
        {
          "output_type": "execute_result",
          "data": {
            "text/plain": [
              "<torch._C.Generator at 0x7fbed180fab0>"
            ]
          },
          "metadata": {
            "tags": []
          },
          "execution_count": 1
        }
      ]
    },
    {
      "cell_type": "markdown",
      "metadata": {
        "id": "MjetyPhnl4b_",
        "colab_type": "text"
      },
      "source": [
        "<!--Empty Space for separating topics-->"
      ]
    },
    {
      "cell_type": "markdown",
      "metadata": {
        "id": "0Kw7QpNyl4cA",
        "colab_type": "text"
      },
      "source": [
        "<h2 id=\"Makeup_Data\">Make Some Data</h2>"
      ]
    },
    {
      "cell_type": "markdown",
      "metadata": {
        "id": "v97VFW1Fl4cA",
        "colab_type": "text"
      },
      "source": [
        "Create polynomial dataset class: "
      ]
    },
    {
      "cell_type": "code",
      "metadata": {
        "id": "4fxJymoBl4cB",
        "colab_type": "code",
        "colab": {}
      },
      "source": [
        "# Create Data object\n",
        "\n",
        "class Data(Dataset):\n",
        "    \n",
        "    # Constructor\n",
        "    def __init__(self, N_SAMPLES=40, noise_std=1, train=True):\n",
        "        self.x = torch.linspace(-1, 1, N_SAMPLES).view(-1, 1)\n",
        "        self.f = self.x ** 2\n",
        "        if train != True:\n",
        "            torch.manual_seed(1)\n",
        "            self.y = self.f + noise_std * torch.randn(self.f.size())\n",
        "            self.y = self.y.view(-1, 1)\n",
        "            torch.manual_seed(0)\n",
        "        else:\n",
        "            self.y = self.f + noise_std * torch.randn(self.f.size())\n",
        "            self.y = self.y.view(-1, 1)\n",
        "            \n",
        "    # Getter\n",
        "    def __getitem__(self, index):    \n",
        "        return self.x[index], self.y[index]\n",
        "    \n",
        "    # Get Length\n",
        "    def __len__(self):\n",
        "        return self.len\n",
        "    \n",
        "    # Plot the data\n",
        "    def plot(self):\n",
        "        plt.figure(figsize = (6.1, 10))\n",
        "        plt.scatter(self.x.numpy(), self.y.numpy(), label=\"Samples\")\n",
        "        plt.plot(self.x.numpy(), self.f.numpy() ,label=\"True Function\", color='orange')\n",
        "        plt.xlabel(\"x\")\n",
        "        plt.ylabel(\"y\")\n",
        "        plt.xlim((-1, 1))\n",
        "        plt.ylim((-2, 2.5))\n",
        "        plt.legend(loc=\"best\")\n",
        "        plt.show()"
      ],
      "execution_count": 2,
      "outputs": []
    },
    {
      "cell_type": "markdown",
      "metadata": {
        "id": "bMr5cDFhl4cF",
        "colab_type": "text"
      },
      "source": [
        "Create a dataset object:"
      ]
    },
    {
      "cell_type": "code",
      "metadata": {
        "id": "oONYNkIIl4cG",
        "colab_type": "code",
        "colab": {
          "base_uri": "https://localhost:8080/",
          "height": 610
        },
        "outputId": "587cbcc2-f833-4a98-9e36-b5527e554193"
      },
      "source": [
        "# Create the dataset object and plot the dataset\n",
        "\n",
        "data_set = Data()\n",
        "data_set.plot()"
      ],
      "execution_count": 3,
      "outputs": [
        {
          "output_type": "display_data",
          "data": {
            "image/png": "[encoded data removed]",
            "text/plain": [
              "<Figure size 439.2x720 with 1 Axes>"
            ]
          },
          "metadata": {
            "tags": [],
            "needs_background": "light"
          }
        }
      ]
    },
    {
      "cell_type": "markdown",
      "metadata": {
        "id": "--o3ENpDl4cM",
        "colab_type": "text"
      },
      "source": [
        "Get some validation data: "
      ]
    },
    {
      "cell_type": "code",
      "metadata": {
        "id": "M-hbSUoIl4cM",
        "colab_type": "code",
        "colab": {}
      },
      "source": [
        "# Create validation dataset object\n",
        "\n",
        "validation_set = Data(train=False)"
      ],
      "execution_count": 4,
      "outputs": []
    },
    {
      "cell_type": "markdown",
      "metadata": {
        "id": "CFO0eNH0l4cQ",
        "colab_type": "text"
      },
      "source": [
        "<!--Empty Space for separating topics-->"
      ]
    },
    {
      "cell_type": "markdown",
      "metadata": {
        "id": "yNRBx53Vl4cQ",
        "colab_type": "text"
      },
      "source": [
        "<h2 id=\"Model_Cost\">Create the Model, Optimizer, and Total Loss Function (Cost)</h2>"
      ]
    },
    {
      "cell_type": "markdown",
      "metadata": {
        "id": "jceqEopOl4cR",
        "colab_type": "text"
      },
      "source": [
        "Create a custom module with three layers. <code>in_size</code> is the size of the input features, <code>n_hidden</code> is the size of the layers, and <code>out_size</code> is the size. <code>p</code> is dropout probability. The default is 0 which is no dropout."
      ]
    },
    {
      "cell_type": "code",
      "metadata": {
        "id": "08Uf8s1el4cR",
        "colab_type": "code",
        "colab": {}
      },
      "source": [
        "# Create the class for model\n",
        "\n",
        "class Net(nn.Module):\n",
        "    \n",
        "    # Constructor\n",
        "    def __init__(self, in_size, n_hidden, out_size, p=0):\n",
        "        super(Net, self).__init__()\n",
        "        self.drop = nn.Dropout(p=p)\n",
        "        self.linear1 = nn.Linear(in_size, n_hidden)\n",
        "        self.linear2 = nn.Linear(n_hidden, n_hidden)\n",
        "        self.linear3 = nn.Linear(n_hidden, out_size)\n",
        "        \n",
        "    def forward(self, x):\n",
        "        x = F.relu(self.drop(self.linear1(x)))\n",
        "        x = F.relu(self.drop(self.linear2(x)))\n",
        "        x = self.linear3(x)\n",
        "        return x"
      ],
      "execution_count": 5,
      "outputs": []
    },
    {
      "cell_type": "markdown",
      "metadata": {
        "id": "eeF9559Zl4cW",
        "colab_type": "text"
      },
      "source": [
        "Create two model objects: <code>model</code> had no dropout, and <code>model_drop </cdoe> has a dropout probability of 0.5:"
      ]
    },
    {
      "cell_type": "code",
      "metadata": {
        "id": "bVczzXm3l4cX",
        "colab_type": "code",
        "colab": {}
      },
      "source": [
        "# Create the model objects\n",
        "\n",
        "model = Net(1, 300, 1)\n",
        "model_drop = Net(1, 300, 1, p=0.5)"
      ],
      "execution_count": 6,
      "outputs": []
    },
    {
      "cell_type": "markdown",
      "metadata": {
        "id": "CozEGbgNl4cc",
        "colab_type": "text"
      },
      "source": [
        "<!--Empty Space for separating topics-->"
      ]
    },
    {
      "cell_type": "markdown",
      "metadata": {
        "id": "0Gu9YaK6l4cd",
        "colab_type": "text"
      },
      "source": [
        "<h2 id=\"Train\">Train the Model via Mini-Batch Gradient Descent</h2>"
      ]
    },
    {
      "cell_type": "markdown",
      "metadata": {
        "id": "VCXvUGVNl4ce",
        "colab_type": "text"
      },
      "source": [
        "Set the model using dropout to training mode; this is the default mode, but it's good practice. "
      ]
    },
    {
      "cell_type": "code",
      "metadata": {
        "id": "XsYGMrk2l4cf",
        "colab_type": "code",
        "colab": {
          "base_uri": "https://localhost:8080/",
          "height": 119
        },
        "outputId": "923e6c91-2de9-42a3-e2d4-c440b743b39a"
      },
      "source": [
        "# Set the model to train mode\n",
        "\n",
        "model_drop.train()"
      ],
      "execution_count": 7,
      "outputs": [
        {
          "output_type": "execute_result",
          "data": {
            "text/plain": [
              "Net(\n",
              "  (drop): Dropout(p=0.5, inplace=False)\n",
              "  (linear1): Linear(in_features=1, out_features=300, bias=True)\n",
              "  (linear2): Linear(in_features=300, out_features=300, bias=True)\n",
              "  (linear3): Linear(in_features=300, out_features=1, bias=True)\n",
              ")"
            ]
          },
          "metadata": {
            "tags": []
          },
          "execution_count": 7
        }
      ]
    },
    {
      "cell_type": "markdown",
      "metadata": {
        "id": "O9CzSoizl4ci",
        "colab_type": "text"
      },
      "source": [
        "Train the model by using the Adam optimizer. See the unit on other optimizers. Use the mean square loss: "
      ]
    },
    {
      "cell_type": "code",
      "metadata": {
        "id": "ctVZKEExl4ci",
        "colab_type": "code",
        "colab": {}
      },
      "source": [
        "# Set the optimizer and criterion function\n",
        "\n",
        "optimizer_ofit = torch.optim.Adam(model.parameters(), lr=0.01)\n",
        "optimizer_drop = torch.optim.Adam(model_drop.parameters(), lr=0.01)\n",
        "criterion = torch.nn.MSELoss()"
      ],
      "execution_count": 8,
      "outputs": []
    },
    {
      "cell_type": "markdown",
      "metadata": {
        "id": "GdBZDOwml4cm",
        "colab_type": "text"
      },
      "source": [
        "Initialize a dictionary that stores the training and validation loss for each model:"
      ]
    },
    {
      "cell_type": "code",
      "metadata": {
        "id": "OV_61vuRl4cn",
        "colab_type": "code",
        "colab": {}
      },
      "source": [
        "# Initialize the dict to contain the loss results\n",
        "\n",
        "LOSS={}\n",
        "LOSS['training data no dropout']=[]\n",
        "LOSS['validation data no dropout']=[]\n",
        "LOSS['training data dropout']=[]\n",
        "LOSS['validation data dropout']=[]"
      ],
      "execution_count": 9,
      "outputs": []
    },
    {
      "cell_type": "markdown",
      "metadata": {
        "id": "VeX8QhILl4ct",
        "colab_type": "text"
      },
      "source": [
        "Run 500 iterations of batch gradient descent: "
      ]
    },
    {
      "cell_type": "code",
      "metadata": {
        "id": "KXL6phM-l4ct",
        "colab_type": "code",
        "colab": {}
      },
      "source": [
        "# Train the model\n",
        "\n",
        "epochs = 500\n",
        "\n",
        "def train_model(epochs):\n",
        "    for epoch in range(epochs):\n",
        "        yhat = model(data_set.x)\n",
        "        yhat_drop = model_drop(data_set.x)\n",
        "        loss = criterion(yhat, data_set.y)\n",
        "        loss_drop = criterion(yhat_drop, data_set.y)\n",
        "\n",
        "        #store the loss for  both the training and validation  data for both models \n",
        "        LOSS['training data no dropout'].append(loss.item())\n",
        "        LOSS['validation data no dropout'].append(criterion(model(validation_set.x), validation_set.y).item())\n",
        "        LOSS['training data dropout'].append(loss_drop.item())\n",
        "        model_drop.eval()\n",
        "        LOSS['validation data dropout'].append(criterion(model_drop(validation_set.x), validation_set.y).item())\n",
        "        model_drop.train()\n",
        "\n",
        "        optimizer_ofit.zero_grad()\n",
        "        optimizer_drop.zero_grad()\n",
        "        loss.backward()\n",
        "        loss_drop.backward()\n",
        "        optimizer_ofit.step()\n",
        "        optimizer_drop.step()\n",
        "        \n",
        "train_model(epochs)"
      ],
      "execution_count": 10,
      "outputs": []
    },
    {
      "cell_type": "markdown",
      "metadata": {
        "id": "3BhfsKWel4cx",
        "colab_type": "text"
      },
      "source": [
        "Set the model with dropout to evaluation mode:"
      ]
    },
    {
      "cell_type": "code",
      "metadata": {
        "id": "CK-XvPeRl4cy",
        "colab_type": "code",
        "colab": {
          "base_uri": "https://localhost:8080/",
          "height": 119
        },
        "outputId": "4a77d0a6-cffb-4fa1-c99b-5e109d46b5b3"
      },
      "source": [
        "# Set the model with dropout to evaluation mode\n",
        "\n",
        "model_drop.eval()"
      ],
      "execution_count": 11,
      "outputs": [
        {
          "output_type": "execute_result",
          "data": {
            "text/plain": [
              "Net(\n",
              "  (drop): Dropout(p=0.5, inplace=False)\n",
              "  (linear1): Linear(in_features=1, out_features=300, bias=True)\n",
              "  (linear2): Linear(in_features=300, out_features=300, bias=True)\n",
              "  (linear3): Linear(in_features=300, out_features=1, bias=True)\n",
              ")"
            ]
          },
          "metadata": {
            "tags": []
          },
          "execution_count": 11
        }
      ]
    },
    {
      "cell_type": "markdown",
      "metadata": {
        "id": "JP0_nFP8l4c3",
        "colab_type": "text"
      },
      "source": [
        "Make a prediction by using both models: "
      ]
    },
    {
      "cell_type": "code",
      "metadata": {
        "id": "Ph-gsTAgl4c4",
        "colab_type": "code",
        "colab": {}
      },
      "source": [
        "# Make the prediction\n",
        "\n",
        "yhat = model(data_set.x)\n",
        "yhat_drop = model_drop(data_set.x)"
      ],
      "execution_count": 12,
      "outputs": []
    },
    {
      "cell_type": "markdown",
      "metadata": {
        "id": "XOGUfTaZl4c9",
        "colab_type": "text"
      },
      "source": [
        "Plot predictions of both models. Compare them to the training points and the true function: "
      ]
    },
    {
      "cell_type": "code",
      "metadata": {
        "id": "dhsedIvDl4c-",
        "colab_type": "code",
        "colab": {
          "base_uri": "https://localhost:8080/",
          "height": 610
        },
        "outputId": "9d10b080-c615-4556-810a-6aed89564ea4"
      },
      "source": [
        "# Plot the predictions for both models\n",
        "\n",
        "plt.figure(figsize=(6.1, 10))\n",
        "\n",
        "plt.scatter(data_set.x.numpy(), data_set.y.numpy(), label=\"Samples\")\n",
        "plt.plot(data_set.x.numpy(), data_set.f.numpy(), label=\"True function\", color='orange')\n",
        "plt.plot(data_set.x.numpy(), yhat.detach().numpy(), label='no dropout', c='r')\n",
        "plt.plot(data_set.x.numpy(), yhat_drop.detach().numpy(), label=\"dropout\", c ='g')\n",
        "\n",
        "plt.xlabel(\"x\")\n",
        "plt.ylabel(\"y\")\n",
        "plt.xlim((-1, 1))\n",
        "plt.ylim((-2, 2.5))\n",
        "plt.legend(loc = \"best\")\n",
        "plt.show()"
      ],
      "execution_count": 13,
      "outputs": [
        {
          "output_type": "display_data",
          "data": {
            "image/png": "[encoded data removed]",
            "text/plain": [
              "<Figure size 439.2x720 with 1 Axes>"
            ]
          },
          "metadata": {
            "tags": [],
            "needs_background": "light"
          }
        }
      ]
    },
    {
      "cell_type": "markdown",
      "metadata": {
        "id": "7fVsVWxRl4dC",
        "colab_type": "text"
      },
      "source": [
        "You can see that the model using dropout does better at tracking the function that generated the data. We use the log to make the difference more apparent "
      ]
    },
    {
      "cell_type": "markdown",
      "metadata": {
        "id": "0FEQNZ0sl4dC",
        "colab_type": "text"
      },
      "source": [
        "Plot out the loss for training and validation data on both models:  "
      ]
    },
    {
      "cell_type": "code",
      "metadata": {
        "id": "G0lKBHSdl4dD",
        "colab_type": "code",
        "colab": {
          "base_uri": "https://localhost:8080/",
          "height": 606
        },
        "outputId": "04d9150d-d30c-4c19-c837-2477187b1d3d"
      },
      "source": [
        "# Plot the loss\n",
        "\n",
        "plt.figure(figsize=(6.1, 10))\n",
        "for key, value in LOSS.items():\n",
        "    plt.plot(np.log(np.array(value)), label=key)\n",
        "    plt.legend()\n",
        "    plt.xlabel(\"iterations\")\n",
        "    plt.ylabel(\"Log of cost or total loss\")"
      ],
      "execution_count": 14,
      "outputs": [
        {
          "output_type": "display_data",
          "data": {
            "image/png": "[encoded data removed]",
            "text/plain": [
              "<Figure size 439.2x720 with 1 Axes>"
            ]
          },
          "metadata": {
            "tags": [],
            "needs_background": "light"
          }
        }
      ]
    },
    {
      "cell_type": "markdown",
      "metadata": {
        "id": "0ZzJcTppl4dG",
        "colab_type": "text"
      },
      "source": [
        "You see that the model without dropout performs better on the training data, but it performs worse on the validation data. This suggests overfitting.  However, the model using dropout performs better on the validation data, but worse on the training data. "
      ]
    },
    {
      "cell_type": "markdown",
      "metadata": {
        "id": "Wbe9ny02l4dH",
        "colab_type": "text"
      },
      "source": [
        "<!--Empty Space for separating topics-->"
      ]
    }
  ]
}